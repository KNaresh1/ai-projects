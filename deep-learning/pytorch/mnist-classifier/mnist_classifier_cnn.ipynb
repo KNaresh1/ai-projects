{
 "cells": [
  {
   "metadata": {},
   "cell_type": "markdown",
   "source": [
    "## Project Title: MNIST Classification using PyTorch Convolutional Neural Network\n",
    "\n",
    "### 1. Data Collection 🗂\n",
    "- Load dataset"
   ]
  },
  {
   "metadata": {},
   "cell_type": "markdown",
   "source": [
    "## Convolutional Neural Networks (CNN)\n",
    "\n",
    "### Introduction 🔍\n",
    "- Deep learning architecture for grid-like data processing\n",
    "- Specializes in spatial pattern recognition\n",
    "\n",
    "### Why CNN? 🤔\n",
    "- More efficient than regular neural networks. There will be tons of inputs and parameters, takes too long to do, too much of compute resources especially large size images\n",
    "- Reduces parameters through convolution layers\n",
    "- Optimizes with pooling layer (down sampling)\n",
    "\n",
    "### Components ⚙️\n",
    "\n",
    "![CNN Architecture](./images/cnn-img.png)\n",
    "\n",
    "![Pooling Layer](./images/cnn-pooling-img.png)\n",
    "\n",
    "### Applications\n",
    "- **Image Processing:** Classification, Object detection, Face recognition, Medical imaging\n",
    "- **Video Analysis:** Action recognition, Motion tracking\n",
    "- **Text & Signal Processing:** NLP tasks, Speech recognition"
   ]
  },
  {
   "cell_type": "markdown",
   "metadata": {},
   "source": [
    "## References\n",
    "- [MNIST Dataset Documentation](https://www.tensorflow.org/datasets/catalog/mnist)"
   ]
  },
  {
   "cell_type": "code",
   "metadata": {
    "ExecuteTime": {
     "end_time": "2025-01-26T05:39:53.365568Z",
     "start_time": "2025-01-26T05:39:49.794828Z"
    }
   },
   "source": [
    "import torch\n",
    "import torch.nn as nn\n",
    "import torch.nn.functional as F\n",
    "from torch.utils.data import DataLoader\n",
    "from torchvision import datasets, transforms\n",
    "from torchvision.utils import make_grid\n",
    "\n",
    "import numpy as np  \n",
    "import pandas as pd\n",
    "from sklearn.metrics import confusion_matrix\n",
    "import matplotlib.pyplot as plt\n",
    "%matplotlib inline"
   ],
   "outputs": [],
   "execution_count": 1
  },
  {
   "cell_type": "code",
   "metadata": {},
   "source": [
    "# 1. DATA COLLECTION - LOAD DATA\n",
    "\n",
    "# Convert MNIST image files into a Tensor 4-dimensions (no_of_images, height, width, color_channel)\n",
    "transform = transforms.ToTensor()\n",
    "\n",
    "train_data = datasets.MNIST(root='./data', train=True, download=True, transform=transform)\n",
    "\n",
    "test_data = datasets.MNIST(root='./data', train=False, download=True, transform=transform)"
   ],
   "outputs": [],
   "execution_count": null
  },
  {
   "cell_type": "code",
   "metadata": {
    "ExecuteTime": {
     "end_time": "2025-01-26T05:39:59.221680Z",
     "start_time": "2025-01-26T05:39:59.218454Z"
    }
   },
   "source": [
    "train_data"
   ],
   "outputs": [
    {
     "data": {
      "text/plain": [
       "Dataset MNIST\n",
       "    Number of datapoints: 60000\n",
       "    Root location: ./data\n",
       "    Split: Train\n",
       "    StandardTransform\n",
       "Transform: ToTensor()"
      ]
     },
     "execution_count": 3,
     "metadata": {},
     "output_type": "execute_result"
    }
   ],
   "execution_count": 3
  },
  {
   "cell_type": "code",
   "metadata": {
    "ExecuteTime": {
     "end_time": "2025-01-26T05:39:59.229592Z",
     "start_time": "2025-01-26T05:39:59.227139Z"
    }
   },
   "source": [
    "test_data"
   ],
   "outputs": [
    {
     "data": {
      "text/plain": [
       "Dataset MNIST\n",
       "    Number of datapoints: 10000\n",
       "    Root location: ./data\n",
       "    Split: Test\n",
       "    StandardTransform\n",
       "Transform: ToTensor()"
      ]
     },
     "execution_count": 4,
     "metadata": {},
     "output_type": "execute_result"
    }
   ],
   "execution_count": 4
  },
  {
   "cell_type": "code",
   "metadata": {
    "ExecuteTime": {
     "end_time": "2025-01-26T05:39:59.241139Z",
     "start_time": "2025-01-26T05:39:59.238987Z"
    }
   },
   "source": [
    "# Create data loaders with smaller batch size (eg. 10)\n",
    "\n",
    "train_loader = DataLoader(train_data, batch_size=10, shuffle=True)\n",
    "\n",
    "test_loader = DataLoader(test_data, batch_size=10, shuffle=False)"
   ],
   "outputs": [],
   "execution_count": 5
  },
  {
   "cell_type": "code",
   "metadata": {
    "ExecuteTime": {
     "end_time": "2025-01-26T05:39:59.260124Z",
     "start_time": "2025-01-26T05:39:59.248841Z"
    }
   },
   "source": [
    "from models.MNISTClassifierCNN import MNISTClassifierCNN\n",
    "\n",
    "# Pick a Manual seed for randomization, like start from this neuron. \n",
    "# The seed and random_state could have potential impact on predictions\n",
    "torch.manual_seed(32)\n",
    "\n",
    "model = MNISTClassifierCNN()\n",
    "\n",
    "model"
   ],
   "outputs": [
    {
     "data": {
      "text/plain": [
       "MNISTClassifierCNN(\n",
       "  (conv1): Conv2d(1, 6, kernel_size=(3, 3), stride=(1, 1))\n",
       "  (conv2): Conv2d(6, 16, kernel_size=(3, 3), stride=(1, 1))\n",
       "  (fc1): Linear(in_features=400, out_features=120, bias=True)\n",
       "  (fc2): Linear(in_features=120, out_features=84, bias=True)\n",
       "  (fc3): Linear(in_features=84, out_features=10, bias=True)\n",
       ")"
      ]
     },
     "execution_count": 6,
     "metadata": {},
     "output_type": "execute_result"
    }
   ],
   "execution_count": 6
  },
  {
   "cell_type": "code",
   "metadata": {
    "ExecuteTime": {
     "end_time": "2025-01-26T05:39:59.267323Z",
     "start_time": "2025-01-26T05:39:59.265544Z"
    }
   },
   "source": [
    "# Loss Function Optimizer\n",
    "criterion = nn.CrossEntropyLoss()\n",
    "\n",
    "# The smaller the Learning Rate (lr), the longer it takes to train\n",
    "optimizer = torch.optim.Adam(model.parameters(), lr=0.001)"
   ],
   "outputs": [],
   "execution_count": 7
  },
  {
   "cell_type": "code",
   "metadata": {
    "ExecuteTime": {
     "end_time": "2025-01-26T05:39:59.277813Z",
     "start_time": "2025-01-26T05:39:59.276260Z"
    }
   },
   "source": [],
   "outputs": [],
   "execution_count": null
  }
 ],
 "metadata": {
  "language_info": {
   "name": "python"
  },
  "kernelspec": {
   "name": "python3",
   "language": "python",
   "display_name": "Python 3 (ipykernel)"
  }
 },
 "nbformat": 4,
 "nbformat_minor": 2
}
