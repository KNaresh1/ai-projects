{
 "cells": [
  {
   "metadata": {},
   "cell_type": "markdown",
   "source": [
    "## Project Title: MNIST Classification using PyTorch CNN\n",
    "\n",
    "### 1. Data Collection 🗂\n",
    "- Load dataset\n",
    "- Initial data exploration\n",
    "\n",
    "### 2. Data Splitting 📊\n",
    "- Train-test split\n",
    "- Validation set creation if needed\n",
    "\n",
    "### 3. Model Training ⚙️\n",
    "- Define model architecture\n",
    "- Set hyperparameters\n",
    "- Training loop\n",
    "- Loss tracking\n",
    "\n",
    "### 4. Model Evaluation 📈\n",
    "- Accuracy metrics\n",
    "- Performance visualization\n",
    "\n",
    "### 5. Predictions 🎯\n",
    "- Test predictions\n",
    "- Results analysis\n",
    "\n",
    "### 6. Model Persistence 💾\n",
    "- Save trained model\n",
    "- Save scaler/encoder if used\n",
    "\n",
    "### 7. Model Loading & Usage 🔄\n",
    "- Load saved model\n",
    "- Make new predictions"
   ]
  },
  {
   "metadata": {},
   "cell_type": "markdown",
   "source": [
    "## Convolutional Neural Networks (CNN)\n",
    "\n",
    "### Introduction 🔍\n",
    "- Deep learning architecture for grid-like data processing\n",
    "- Specializes in spatial pattern recognition\n",
    "\n",
    "### Why CNN? 🤔\n",
    "- More efficient than regular neural networks. There will be tons of inputs and parameters, takes too long to do, too much of compute resources especially large size images\n",
    "- Reduces parameters through convolution layers\n",
    "- Optimizes with pooling layer (down sampling)\n",
    "\n",
    "### Components ⚙️\n",
    "\n",
    "![CNN Architecture](https://raw.githubusercontent.com/KNaresh1/ai-projects/main/deep-learning/pytorch/mnist-classifier/images/cnn-img.png)\n",
    "\n",
    "![Pooling Layer](https://raw.githubusercontent.com/KNaresh1/ai-projects/main/deep-learning/pytorch/mnist-classifier/images/cnn-pooling-img.png)\n",
    "\n",
    "### Applications\n",
    "- **Image Processing:** Classification, Object detection, Face recognition, Medical imaging\n",
    "- **Video Analysis:** Action recognition, Motion tracking\n",
    "- **Text & Signal Processing:** NLP tasks, Speech recognition"
   ]
  },
  {
   "cell_type": "markdown",
   "metadata": {},
   "source": [
    "## References\n",
    "- [MNIST Dataset Documentation](https://www.tensorflow.org/datasets/catalog/mnist)"
   ]
  },
  {
   "cell_type": "code",
   "metadata": {
    "ExecuteTime": {
     "end_time": "2025-01-26T19:08:58.448188Z",
     "start_time": "2025-01-26T19:08:55.777086Z"
    }
   },
   "source": [
    "import torch\n",
    "import torch.nn as nn\n",
    "from torch.utils.data import DataLoader\n",
    "from torchvision import datasets, transforms\n",
    "from torchvision.utils import make_grid\n",
    "\n",
    "import numpy as np  \n",
    "import pandas as pd\n",
    "from sklearn.metrics import confusion_matrix\n",
    "import matplotlib.pyplot as plt\n",
    "%matplotlib inline"
   ],
   "outputs": [],
   "execution_count": 1
  },
  {
   "cell_type": "code",
   "metadata": {
    "ExecuteTime": {
     "end_time": "2025-01-26T19:08:58.492618Z",
     "start_time": "2025-01-26T19:08:58.451216Z"
    }
   },
   "source": [
    "# 1. DATA COLLECTION - LOAD DATA\n",
    "\n",
    "# Convert MNIST image files into a Tensor 4-dimensions (no_of_images, height, width, color_channel)\n",
    "transform = transforms.ToTensor()\n",
    "\n",
    "train_data = datasets.MNIST(root='./data', train=True, download=True, transform=transform)\n",
    "\n",
    "test_data = datasets.MNIST(root='./data', train=False, download=True, transform=transform)"
   ],
   "outputs": [],
   "execution_count": 2
  },
  {
   "cell_type": "code",
   "metadata": {
    "ExecuteTime": {
     "end_time": "2025-01-26T19:08:58.571606Z",
     "start_time": "2025-01-26T19:08:58.568908Z"
    }
   },
   "source": [
    "train_data"
   ],
   "outputs": [
    {
     "data": {
      "text/plain": [
       "Dataset MNIST\n",
       "    Number of datapoints: 60000\n",
       "    Root location: ./data\n",
       "    Split: Train\n",
       "    StandardTransform\n",
       "Transform: ToTensor()"
      ]
     },
     "execution_count": 3,
     "metadata": {},
     "output_type": "execute_result"
    }
   ],
   "execution_count": 3
  },
  {
   "cell_type": "code",
   "metadata": {
    "ExecuteTime": {
     "end_time": "2025-01-26T19:08:58.580310Z",
     "start_time": "2025-01-26T19:08:58.578116Z"
    }
   },
   "source": [
    "test_data"
   ],
   "outputs": [
    {
     "data": {
      "text/plain": [
       "Dataset MNIST\n",
       "    Number of datapoints: 10000\n",
       "    Root location: ./data\n",
       "    Split: Test\n",
       "    StandardTransform\n",
       "Transform: ToTensor()"
      ]
     },
     "execution_count": 4,
     "metadata": {},
     "output_type": "execute_result"
    }
   ],
   "execution_count": 4
  },
  {
   "cell_type": "code",
   "metadata": {
    "ExecuteTime": {
     "end_time": "2025-01-26T19:08:58.587843Z",
     "start_time": "2025-01-26T19:08:58.586044Z"
    }
   },
   "source": [
    "# 2. DATA SPLITTING - TRAIN, TEST & SPLIT! \n",
    "\n",
    "# Create data loaders with smaller batch size (eg. 10)\n",
    "\n",
    "train_loader = DataLoader(train_data, batch_size=10, shuffle=True)\n",
    "\n",
    "test_loader = DataLoader(test_data, batch_size=10, shuffle=False)"
   ],
   "outputs": [],
   "execution_count": 5
  },
  {
   "cell_type": "code",
   "metadata": {
    "ExecuteTime": {
     "end_time": "2025-01-26T19:08:58.603001Z",
     "start_time": "2025-01-26T19:08:58.593491Z"
    }
   },
   "source": [
    "# 3. MODEL TRAINING\n",
    "\n",
    "from models.MNISTClassifierCNN import MNISTClassifierCNN\n",
    "\n",
    "# Pick a Manual seed for randomization, like start from this neuron. \n",
    "# The seed and random_state could have potential impact on predictions\n",
    "torch.manual_seed(41)\n",
    "\n",
    "model = MNISTClassifierCNN()\n",
    "\n",
    "model"
   ],
   "outputs": [
    {
     "data": {
      "text/plain": [
       "MNISTClassifierCNN(\n",
       "  (conv1): Conv2d(1, 6, kernel_size=(3, 3), stride=(1, 1))\n",
       "  (conv2): Conv2d(6, 16, kernel_size=(3, 3), stride=(1, 1))\n",
       "  (fc1): Linear(in_features=400, out_features=120, bias=True)\n",
       "  (fc2): Linear(in_features=120, out_features=84, bias=True)\n",
       "  (fc3): Linear(in_features=84, out_features=10, bias=True)\n",
       ")"
      ]
     },
     "execution_count": 6,
     "metadata": {},
     "output_type": "execute_result"
    }
   ],
   "execution_count": 6
  },
  {
   "cell_type": "code",
   "metadata": {
    "ExecuteTime": {
     "end_time": "2025-01-26T19:08:58.609688Z",
     "start_time": "2025-01-26T19:08:58.607679Z"
    }
   },
   "source": [
    "# Loss Function Optimizer\n",
    "criterion = nn.CrossEntropyLoss()\n",
    "\n",
    "# Set hyperparameters - The smaller the Learning Rate (lr), the longer it takes to train\n",
    "optimizer = torch.optim.Adam(model.parameters(), lr=0.001)"
   ],
   "outputs": [],
   "execution_count": 7
  },
  {
   "cell_type": "code",
   "metadata": {
    "ExecuteTime": {
     "end_time": "2025-01-26T19:09:31.832845Z",
     "start_time": "2025-01-26T19:08:58.617391Z"
    }
   },
   "source": [
    "import time\n",
    "\n",
    "start_time = time.time()\n",
    "\n",
    "epochs = 5\n",
    "train_losses = []\n",
    "test_losses = []\n",
    "train_correct = []\n",
    "test_correct = []\n",
    "\n",
    "# Training Loop\n",
    "for epoch in range(epochs):\n",
    "    train_corr = 0\n",
    "    test_corr = 0\n",
    "    \n",
    "    # Model Training - X_train: features, y_train: target\n",
    "    for b, (X_train, y_train) in enumerate(train_loader):\n",
    "        b += 1\n",
    "        y_pred = model(X_train) # Predicted value from train set. It is 2d not flatten\n",
    "        \n",
    "        loss = criterion(y_pred, y_train) # How far we are from predictions to correct answer\n",
    "        \n",
    "        # From the predictions tuple, get the max number which is the correct one\n",
    "        # E.g. tensor([-6.7608,  2.7754,  4.5281]), here 4.5281 is max\n",
    "        predicted = torch.max(y_pred.data, 1)[1]\n",
    "        \n",
    "        # How many correct predictions in this batch. True = 1, False = 0, sum those true values\n",
    "        batch_corr = (predicted == y_train).sum() \n",
    "        \n",
    "        train_corr += batch_corr # Track total correct predictions from train data set from all the batches\n",
    "        \n",
    "        optimizer.zero_grad()\n",
    "        loss.backward()\n",
    "        optimizer.step()\n",
    "        \n",
    "        # Print results at regular batch intervals\n",
    "        if b%600 == 0:\n",
    "            print(f'Epoch: {epoch}, Batch: {b} Loss: {loss.item()}')\n",
    "            \n",
    "    train_losses.append(loss)\n",
    "    train_correct.append(train_corr)\n",
    "    \n",
    "    # 4. MODEL EVALUATION - EVALUATE / VALIDATE MODEL ON TEST DATA SET\n",
    "    \n",
    "    # no_grad() - It won't update weights & biases on test data\n",
    "    with torch.no_grad():\n",
    "        for b, (X_test, y_test) in enumerate(test_loader):\n",
    "            y_eval = model(X_test)\n",
    "            \n",
    "            # Extract predicted data\n",
    "            predicted = torch.max(y_eval.data, 1)[1]\n",
    "            \n",
    "            test_corr += (predicted == y_test).sum() # T=1, F=0, sum it up\n",
    "            \n",
    "    loss = criterion(y_eval, y_test)\n",
    "    test_losses.append(loss)\n",
    "    test_correct.append(test_corr)\n",
    "                   \n",
    "current_time = time.time()\n",
    "total_time = current_time - start_time\n",
    "print(f'\\nTraining took: {total_time/60} minutes')"
   ],
   "outputs": [
    {
     "name": "stdout",
     "output_type": "stream",
     "text": [
      "Epoch: 0, Batch: 600 Loss: 0.16236090660095215\n",
      "Epoch: 0, Batch: 1200 Loss: 0.1614551544189453\n",
      "Epoch: 0, Batch: 1800 Loss: 0.5041669607162476\n",
      "Epoch: 0, Batch: 2400 Loss: 0.10426308214664459\n",
      "Epoch: 0, Batch: 3000 Loss: 0.007077544927597046\n",
      "Epoch: 0, Batch: 3600 Loss: 0.3652905821800232\n",
      "Epoch: 0, Batch: 4200 Loss: 0.0037760832346975803\n",
      "Epoch: 0, Batch: 4800 Loss: 0.0013758999994024634\n",
      "Epoch: 0, Batch: 5400 Loss: 0.04505983740091324\n",
      "Epoch: 0, Batch: 6000 Loss: 0.0005676982691511512\n",
      "Epoch: 1, Batch: 600 Loss: 0.0040985336527228355\n",
      "Epoch: 1, Batch: 1200 Loss: 0.26344460248947144\n",
      "Epoch: 1, Batch: 1800 Loss: 0.0015710301231592894\n",
      "Epoch: 1, Batch: 2400 Loss: 0.002920893719419837\n",
      "Epoch: 1, Batch: 3000 Loss: 0.025759723037481308\n",
      "Epoch: 1, Batch: 3600 Loss: 0.5109620094299316\n",
      "Epoch: 1, Batch: 4200 Loss: 0.03832785040140152\n",
      "Epoch: 1, Batch: 4800 Loss: 0.0004107930581085384\n",
      "Epoch: 1, Batch: 5400 Loss: 0.00042201072210446\n",
      "Epoch: 1, Batch: 6000 Loss: 0.4828798770904541\n",
      "Epoch: 2, Batch: 600 Loss: 0.05119292065501213\n",
      "Epoch: 2, Batch: 1200 Loss: 0.0038511897437274456\n",
      "Epoch: 2, Batch: 1800 Loss: 0.0014970828779041767\n",
      "Epoch: 2, Batch: 2400 Loss: 0.004896306432783604\n",
      "Epoch: 2, Batch: 3000 Loss: 0.008256791159510612\n",
      "Epoch: 2, Batch: 3600 Loss: 0.0004542603564914316\n",
      "Epoch: 2, Batch: 4200 Loss: 0.26317352056503296\n",
      "Epoch: 2, Batch: 4800 Loss: 0.001537359319627285\n",
      "Epoch: 2, Batch: 5400 Loss: 0.006470398046076298\n",
      "Epoch: 2, Batch: 6000 Loss: 0.1095944419503212\n",
      "Epoch: 3, Batch: 600 Loss: 0.03505117446184158\n",
      "Epoch: 3, Batch: 1200 Loss: 0.001770398230291903\n",
      "Epoch: 3, Batch: 1800 Loss: 0.005633163265883923\n",
      "Epoch: 3, Batch: 2400 Loss: 1.2385697118588723e-05\n",
      "Epoch: 3, Batch: 3000 Loss: 0.0020400488283485174\n",
      "Epoch: 3, Batch: 3600 Loss: 0.00025755190290510654\n",
      "Epoch: 3, Batch: 4200 Loss: 0.011785751208662987\n",
      "Epoch: 3, Batch: 4800 Loss: 2.1826495867571793e-05\n",
      "Epoch: 3, Batch: 5400 Loss: 0.0542694516479969\n",
      "Epoch: 3, Batch: 6000 Loss: 0.017493976280093193\n",
      "Epoch: 4, Batch: 600 Loss: 0.00170081143733114\n",
      "Epoch: 4, Batch: 1200 Loss: 0.08627621829509735\n",
      "Epoch: 4, Batch: 1800 Loss: 0.34209710359573364\n",
      "Epoch: 4, Batch: 2400 Loss: 0.00012794588110409677\n",
      "Epoch: 4, Batch: 3000 Loss: 0.0014115956146270037\n",
      "Epoch: 4, Batch: 3600 Loss: 0.47453540563583374\n",
      "Epoch: 4, Batch: 4200 Loss: 0.0017075622454285622\n",
      "Epoch: 4, Batch: 4800 Loss: 0.0002860472886823118\n",
      "Epoch: 4, Batch: 5400 Loss: 0.018258752301335335\n",
      "Epoch: 4, Batch: 6000 Loss: 0.0014418931677937508\n",
      "\n",
      "Training took: 0.5535308837890625 minutes\n"
     ]
    }
   ],
   "execution_count": 8
  },
  {
   "metadata": {
    "ExecuteTime": {
     "end_time": "2025-01-26T19:09:31.923187Z",
     "start_time": "2025-01-26T19:09:31.851551Z"
    }
   },
   "cell_type": "code",
   "source": [
    "# Loss Tracking\n",
    "\n",
    "# Convert tensors to python list\n",
    "train_losses = [tl.item() for tl in train_losses]\n",
    "\n",
    "plt.plot(train_losses, label='Training loss')\n",
    "plt.plot(test_losses, label='Validation loss')\n",
    "plt.title('Loss at Epoch')\n",
    "plt.legend()"
   ],
   "outputs": [
    {
     "data": {
      "text/plain": [
       "<matplotlib.legend.Legend at 0x31340d950>"
      ]
     },
     "execution_count": 9,
     "metadata": {},
     "output_type": "execute_result"
    },
    {
     "data": {
      "text/plain": [
       "<Figure size 640x480 with 1 Axes>"
      ],
      "image/png": "[encoded data removed]"
     },
     "metadata": {},
     "output_type": "display_data"
    }
   ],
   "execution_count": 9
  },
  {
   "metadata": {
    "ExecuteTime": {
     "end_time": "2025-01-26T19:09:32.005857Z",
     "start_time": "2025-01-26T19:09:31.939228Z"
    }
   },
   "cell_type": "code",
   "source": [
    "# Accuracy Metrics\n",
    "\n",
    "plt.plot([t/600 for t in train_correct], label='Training Accuracy')\n",
    "plt.plot([t/100 for t in test_correct], label='Validation Accuracy')\n",
    "plt.title('Accuracy at the end of each Epoch')\n",
    "plt.legend()"
   ],
   "outputs": [
    {
     "data": {
      "text/plain": [
       "<matplotlib.legend.Legend at 0x31350bb50>"
      ]
     },
     "execution_count": 10,
     "metadata": {},
     "output_type": "execute_result"
    },
    {
     "data": {
      "text/plain": [
       "<Figure size 640x480 with 1 Axes>"
      ],
      "image/png": "[encoded data removed]"
     },
     "metadata": {},
     "output_type": "display_data"
    }
   ],
   "execution_count": 10
  },
  {
   "metadata": {
    "ExecuteTime": {
     "end_time": "2025-01-26T19:09:32.437853Z",
     "start_time": "2025-01-26T19:09:32.016893Z"
    }
   },
   "cell_type": "code",
   "source": [
    "# 6. PREDICTIONS\n",
    "\n",
    "test_load_all = DataLoader(test_data, batch_size=10000, shuffle=False)\n",
    "\n",
    "with torch.no_grad():\n",
    "    correct = 0\n",
    "    for (X_test, y_test) in test_load_all:\n",
    "        y_eval = model(X_test)\n",
    "        predicted = torch.max(y_eval.data, 1)[1]\n",
    "        correct += (predicted == y_test).sum()\n",
    "        \n",
    "correct = correct.item()/len(test_data) * 100\n",
    "\n",
    "print(f'Correct {correct} %')\n",
    "        "
   ],
   "outputs": [
    {
     "name": "stdout",
     "output_type": "stream",
     "text": [
      "Correct 98.64 %\n"
     ]
    }
   ],
   "execution_count": 11
  },
  {
   "metadata": {
    "ExecuteTime": {
     "end_time": "2025-01-26T19:29:32.040162Z",
     "start_time": "2025-01-26T19:29:31.981954Z"
    }
   },
   "cell_type": "code",
   "source": [
    "# Random image prediction (Below is the image for which it should predict the number)\n",
    "\n",
    "random_image = test_data[1978][0]\n",
    "plt.imshow(random_image.reshape(28, 28))\n"
   ],
   "outputs": [
    {
     "data": {
      "text/plain": [
       "<matplotlib.image.AxesImage at 0x313440b90>"
      ]
     },
     "execution_count": 19,
     "metadata": {},
     "output_type": "execute_result"
    },
    {
     "data": {
      "text/plain": [
       "<Figure size 640x480 with 1 Axes>"
      ],
      "image/png": "[encoded data removed]"
     },
     "metadata": {},
     "output_type": "display_data"
    }
   ],
   "execution_count": 19
  },
  {
   "metadata": {
    "ExecuteTime": {
     "end_time": "2025-01-26T19:29:36.285926Z",
     "start_time": "2025-01-26T19:29:36.280524Z"
    }
   },
   "cell_type": "code",
   "source": [
    "model.eval()\n",
    "with torch.no_grad():\n",
    "    new_prediction = model(random_image.view(1,1,28,28)) # (batch_size, color_channel, 28X28 image)\n",
    "    \n",
    "    \n",
    "new_prediction = new_prediction.argmax(dim=1, keepdim=True)\n",
    "\n",
    "print(new_prediction)"
   ],
   "outputs": [
    {
     "name": "stdout",
     "output_type": "stream",
     "text": [
      "tensor([[4]])\n"
     ]
    }
   ],
   "execution_count": 20
  },
  {
   "metadata": {},
   "cell_type": "code",
   "outputs": [],
   "execution_count": null,
   "source": ""
  }
 ],
 "metadata": {
  "language_info": {
   "name": "python"
  },
  "kernelspec": {
   "name": "python3",
   "language": "python",
   "display_name": "Python 3 (ipykernel)"
  }
 },
 "nbformat": 4,
 "nbformat_minor": 2
}
