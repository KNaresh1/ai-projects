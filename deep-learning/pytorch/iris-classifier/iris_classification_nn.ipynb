{
 "cells": [
  {
   "cell_type": "markdown",
   "metadata": {},
   "source": [
    "## Project Title: Iris Classification using PyTorch Neural Network\n",
    "\n",
    "### 1. Data Collection 🗂\n",
    "- Load dataset\n",
    "- Initial data exploration\n",
    "- Check for missing values\n",
    "\n",
    "### 2. Data Preparation 🔄\n",
    "- Feature scaling/normalization\n",
    "- Label encoding\n",
    "- Data visualization\n",
    "\n",
    "### 3. Data Splitting 📊\n",
    "- Train-test split\n",
    "- Validation set creation if needed\n",
    "\n",
    "### 4. Model Training ⚙️\n",
    "- Define model architecture\n",
    "- Set hyperparameters\n",
    "- Training loop\n",
    "- Loss tracking\n",
    "\n",
    "### 5. Model Evaluation 📈\n",
    "- Accuracy metrics\n",
    "\n",
    "- Performance visualization\n",
    "\n",
    "### 6. Predictions 🎯\n",
    "- Test predictions\n",
    "- Results analysis\n",
    "\n",
    "### 7. Model Persistence 💾\n",
    "- Save trained model\n",
    "- Save scaler/encoder if used\n",
    "\n",
    "### 8. Model Loading & Usage 🔄\n",
    "- Load saved model\n",
    "- Make new predictions"
   ]
  },
  {
   "cell_type": "code",
   "metadata": {
    "ExecuteTime": {
     "end_time": "2025-01-26T02:46:01.225734Z",
     "start_time": "2025-01-26T02:45:59.527101Z"
    }
   },
   "source": [
    "import torch\n",
    "import torch.nn as nn\n",
    "import pandas as pd\n",
    "import matplotlib.pyplot as plt\n",
    "%matplotlib inline"
   ],
   "outputs": [],
   "execution_count": 1
  },
  {
   "cell_type": "code",
   "metadata": {
    "ExecuteTime": {
     "end_time": "2025-01-26T02:46:01.724629Z",
     "start_time": "2025-01-26T02:46:01.245278Z"
    }
   },
   "source": [
    "# 1. DATA COLLECTION - LOAD AND EXPLORE DATA\n",
    "\n",
    "url = 'https://gist.githubusercontent.com/netj/8836201/raw/6f9306ad21398ea43cba4f7d537619d0e07d5ae3/iris.csv'\n",
    "df = pd.read_csv(url)\n",
    "\n",
    "df.head()"
   ],
   "outputs": [
    {
     "data": {
      "text/plain": [
       "   sepal.length  sepal.width  petal.length  petal.width variety\n",
       "0           5.1          3.5           1.4          0.2  Setosa\n",
       "1           4.9          3.0           1.4          0.2  Setosa\n",
       "2           4.7          3.2           1.3          0.2  Setosa\n",
       "3           4.6          3.1           1.5          0.2  Setosa\n",
       "4           5.0          3.6           1.4          0.2  Setosa"
      ],
      "text/html": [
       "<div>\n",
       "<style scoped>\n",
       "    .dataframe tbody tr th:only-of-type {\n",
       "        vertical-align: middle;\n",
       "    }\n",
       "\n",
       "    .dataframe tbody tr th {\n",
       "        vertical-align: top;\n",
       "    }\n",
       "\n",
       "    .dataframe thead th {\n",
       "        text-align: right;\n",
       "    }\n",
       "</style>\n",
       "<table border=\"1\" class=\"dataframe\">\n",
       "  <thead>\n",
       "    <tr style=\"text-align: right;\">\n",
       "      <th></th>\n",
       "      <th>sepal.length</th>\n",
       "      <th>sepal.width</th>\n",
       "      <th>petal.length</th>\n",
       "      <th>petal.width</th>\n",
       "      <th>variety</th>\n",
       "    </tr>\n",
       "  </thead>\n",
       "  <tbody>\n",
       "    <tr>\n",
       "      <th>0</th>\n",
       "      <td>5.1</td>\n",
       "      <td>3.5</td>\n",
       "      <td>1.4</td>\n",
       "      <td>0.2</td>\n",
       "      <td>Setosa</td>\n",
       "    </tr>\n",
       "    <tr>\n",
       "      <th>1</th>\n",
       "      <td>4.9</td>\n",
       "      <td>3.0</td>\n",
       "      <td>1.4</td>\n",
       "      <td>0.2</td>\n",
       "      <td>Setosa</td>\n",
       "    </tr>\n",
       "    <tr>\n",
       "      <th>2</th>\n",
       "      <td>4.7</td>\n",
       "      <td>3.2</td>\n",
       "      <td>1.3</td>\n",
       "      <td>0.2</td>\n",
       "      <td>Setosa</td>\n",
       "    </tr>\n",
       "    <tr>\n",
       "      <th>3</th>\n",
       "      <td>4.6</td>\n",
       "      <td>3.1</td>\n",
       "      <td>1.5</td>\n",
       "      <td>0.2</td>\n",
       "      <td>Setosa</td>\n",
       "    </tr>\n",
       "    <tr>\n",
       "      <th>4</th>\n",
       "      <td>5.0</td>\n",
       "      <td>3.6</td>\n",
       "      <td>1.4</td>\n",
       "      <td>0.2</td>\n",
       "      <td>Setosa</td>\n",
       "    </tr>\n",
       "  </tbody>\n",
       "</table>\n",
       "</div>"
      ]
     },
     "execution_count": 2,
     "metadata": {},
     "output_type": "execute_result"
    }
   ],
   "execution_count": 2
  },
  {
   "cell_type": "code",
   "metadata": {},
   "source": [
    "# 2. DATA PREPARATION - LABEL ENCODING & DATA VISUALIZATION\n",
    "\n",
    "# Change the target column values from strings to numbers\n",
    "df['variety'] = df['variety'].replace('Setosa', 0)\n",
    "df['variety'] = df['variety'].replace('Versicolor', 1)\n",
    "df['variety'] = df['variety'].replace('Virginica', 2)\n",
    "\n",
    "df.head()"
   ],
   "outputs": [],
   "execution_count": null
  },
  {
   "cell_type": "code",
   "metadata": {
    "ExecuteTime": {
     "end_time": "2025-01-26T02:46:01.962444Z",
     "start_time": "2025-01-26T02:46:01.958665Z"
    }
   },
   "source": [
    "# Set X, y (convention) \n",
    "# X: always features, y: always outcome\n",
    "\n",
    "X = df.drop('variety', axis=1)\n",
    "y = df['variety']\n",
    "\n",
    "# Convert these dataframes into numpy arrays\n",
    "X = X.values\n",
    "y = y.values\n"
   ],
   "outputs": [],
   "execution_count": 4
  },
  {
   "cell_type": "code",
   "metadata": {
    "ExecuteTime": {
     "end_time": "2025-01-26T02:46:02.673606Z",
     "start_time": "2025-01-26T02:46:02.032812Z"
    }
   },
   "source": [
    "# 3. DATA SPLITTING - TRAIN, TEST & SPLIT! \n",
    "\n",
    "from sklearn.model_selection import train_test_split\n",
    "\n",
    "X_train, X_test, y_train, y_test = train_test_split(X, y, test_size=0.2, random_state=32)\n",
    "\n",
    "# Convert X features to float tensors\n",
    "X_train = torch.FloatTensor(X_train)\n",
    "X_test = torch.FloatTensor(X_test)\n",
    "\n",
    "# Convert y labels to long tensors\n",
    "y_train = torch.LongTensor(y_train)\n",
    "y_test = torch.LongTensor(y_test)\n"
   ],
   "outputs": [],
   "execution_count": 5
  },
  {
   "cell_type": "code",
   "metadata": {
    "ExecuteTime": {
     "end_time": "2025-01-26T02:46:02.707323Z",
     "start_time": "2025-01-26T02:46:02.698143Z"
    }
   },
   "source": [
    "# 4. MODEL TRAINING\n",
    "\n",
    "from models.IrisClassifierNN import IrisClassifierNN\n",
    "\n",
    "# Pick a Manual seed for randomization, like start from this neuron. \n",
    "# The seed and random_state could have potential impact on predictions\n",
    "torch.manual_seed(32)\n",
    "\n",
    "# Create an instance of the model\n",
    "model = IrisClassifierNN()"
   ],
   "outputs": [],
   "execution_count": 6
  },
  {
   "cell_type": "code",
   "metadata": {
    "ExecuteTime": {
     "end_time": "2025-01-26T02:46:03.316890Z",
     "start_time": "2025-01-26T02:46:02.717006Z"
    }
   },
   "source": [
    "# Set the criterion of model to measure the error, how far off the predictions are from the data\n",
    "criterion = nn.CrossEntropyLoss()\n",
    "\n",
    "# Choose Optimizer = Adam Optimizer\n",
    "# LearningRate (lr): After a bunch of iterations (epochs), if error rate doesn't go down, we probably lower our lr\n",
    "optimizer = torch.optim.Adam(model.parameters(), lr=0.01)\n",
    "\n",
    "model.parameters"
   ],
   "outputs": [
    {
     "data": {
      "text/plain": [
       "<bound method Module.parameters of IrisClassifierNN(\n",
       "  (fc1): Linear(in_features=4, out_features=8, bias=True)\n",
       "  (fc2): Linear(in_features=8, out_features=9, bias=True)\n",
       "  (out): Linear(in_features=9, out_features=3, bias=True)\n",
       ")>"
      ]
     },
     "execution_count": 7,
     "metadata": {},
     "output_type": "execute_result"
    }
   ],
   "execution_count": 7
  },
  {
   "cell_type": "code",
   "metadata": {
    "ExecuteTime": {
     "end_time": "2025-01-26T02:46:03.392235Z",
     "start_time": "2025-01-26T02:46:03.340283Z"
    }
   },
   "source": [
    "# Epochs: One run through all the training data in our network\n",
    "epochs = 100\n",
    "\n",
    "# Keep track of the losses/errors, it has to decrease overtime that's how we know that the model/network is learning\n",
    "losses = []\n",
    "\n",
    "for i in range(epochs):\n",
    "    # Go forward and get a prediction\n",
    "    y_pred = model.forward(X_train) # Send training data through the entire network and get predicted result\n",
    "\n",
    "    # Measure the loss, it will be high initially\n",
    "    loss = criterion(y_pred, y_train) # Predicted values vs the y_train\n",
    "\n",
    "    # Keep track of the losses. Convert the loss which is tensor to numpy\n",
    "    losses.append(loss.detach().numpy())\n",
    "\n",
    "    # Print loss for every 10 epochs\n",
    "    if i % 10 == 0:\n",
    "        print(f'Epoch: {i}, Loss: {loss}')\n",
    "\n",
    "    # Do some back propagation: Take the error rate of forward propagation and feed it back\n",
    "    # through the network to fine tune the weights\n",
    "    optimizer.zero_grad()\n",
    "    loss.backward()\n",
    "    optimizer.step()\n"
   ],
   "outputs": [
    {
     "name": "stdout",
     "output_type": "stream",
     "text": [
      "Epoch: 0, Loss: 1.1699321269989014\n",
      "Epoch: 10, Loss: 0.9570867419242859\n",
      "Epoch: 20, Loss: 0.7980871796607971\n",
      "Epoch: 30, Loss: 0.6327950358390808\n",
      "Epoch: 40, Loss: 0.43861737847328186\n",
      "Epoch: 50, Loss: 0.290453165769577\n",
      "Epoch: 60, Loss: 0.17780695855617523\n",
      "Epoch: 70, Loss: 0.11584120243787766\n",
      "Epoch: 80, Loss: 0.0893637165427208\n",
      "Epoch: 90, Loss: 0.07752915471792221\n"
     ]
    }
   ],
   "execution_count": 8
  },
  {
   "cell_type": "code",
   "metadata": {
    "ExecuteTime": {
     "end_time": "2025-01-26T02:46:03.456443Z",
     "start_time": "2025-01-26T02:46:03.404540Z"
    }
   },
   "source": [
    "# Graph it out!\n",
    "plt.plot(range(epochs), losses)\n",
    "plt.xlabel('Epoch')\n",
    "plt.ylabel('loss/error')\n"
   ],
   "outputs": [
    {
     "data": {
      "text/plain": [
       "Text(0, 0.5, 'loss/error')"
      ]
     },
     "execution_count": 9,
     "metadata": {},
     "output_type": "execute_result"
    },
    {
     "data": {
      "text/plain": [
       "<Figure size 640x480 with 1 Axes>"
      ],
      "image/png": "[encoded data removed]"
     },
     "metadata": {},
     "output_type": "display_data"
    }
   ],
   "execution_count": 9
  },
  {
   "cell_type": "code",
   "metadata": {
    "ExecuteTime": {
     "end_time": "2025-01-26T02:46:03.471362Z",
     "start_time": "2025-01-26T02:46:03.468237Z"
    }
   },
   "source": [
    "# 5. MODEL EVALUATION - EVALUATE / VALIDATE MODEL ON TEST DATA SET\n",
    "\n",
    "with torch.no_grad(): # Turn off back propagation\n",
    "    y_eval = model.forward(X_test) # X_test are features from test data set, y_eval is prediction\n",
    "\n",
    "    # Find the loss/error \n",
    "    loss = criterion(y_eval, y_test)\n",
    "\n",
    "loss"
   ],
   "outputs": [
    {
     "data": {
      "text/plain": [
       "tensor(0.0538)"
      ]
     },
     "execution_count": 10,
     "metadata": {},
     "output_type": "execute_result"
    }
   ],
   "execution_count": 10
  },
  {
   "cell_type": "code",
   "metadata": {
    "ExecuteTime": {
     "end_time": "2025-01-26T02:46:03.490249Z",
     "start_time": "2025-01-26T02:46:03.483511Z"
    }
   },
   "source": [
    "# If the loss in the TEST dataset (e.g. 0.1315) is not anywhere near to TRAIN dataset (e.g. 0.06522615998983383), \n",
    "# We can also debug and check the network predictions\n",
    "\n",
    "correct = 0\n",
    "\n",
    "with torch.no_grad():\n",
    "    for i, data in enumerate(X_test):\n",
    "        y_eval = model.forward(data)\n",
    "\n",
    "        print(f'{(i+1)}.] {str(y_eval)} \\t {y_test[i]} \\t {y_eval.argmax().item()}')\n",
    "\n",
    "        if y_eval.argmax().item() == y_test[i]:\n",
    "            correct += 1\n",
    "\n",
    "print(f'\\nModel predicted {correct} correct out of {len(y_test)}!')\n",
    "\n",
    "# From the output, the index that has the highest value in each tensor is the actual prediction\n",
    "# E.g. tensor([-3.3646,  3.9392,  0.3720]) - index 1 is highest so 1 maps to 'Versicolor' as per conversion we did in PREPARE DATA section\n"
   ],
   "outputs": [
    {
     "name": "stdout",
     "output_type": "stream",
     "text": [
      "1.] tensor([-3.3646,  3.9392,  0.3720]) \t 1 \t 1\n",
      "2.] tensor([  7.5572,   1.1015, -11.3347]) \t 0 \t 0\n",
      "3.] tensor([  6.5957,   1.5027, -10.4091]) \t 0 \t 0\n",
      "4.] tensor([-3.3331,  4.2594,  0.0623]) \t 1 \t 1\n",
      "5.] tensor([-7.3782,  2.8087,  5.1605]) \t 2 \t 2\n",
      "6.] tensor([-7.3760,  3.9013,  4.2826]) \t 2 \t 2\n",
      "7.] tensor([  6.1971,   1.6470, -10.0047]) \t 0 \t 0\n",
      "8.] tensor([  6.6383,   1.4348, -10.4031]) \t 0 \t 0\n",
      "9.] tensor([-2.6753,  4.3091, -0.6392]) \t 1 \t 1\n",
      "10.] tensor([  7.1875,   1.3812, -11.0965]) \t 0 \t 0\n",
      "11.] tensor([-3.8318,  4.4027,  0.5246]) \t 1 \t 1\n",
      "12.] tensor([-8.6807,  1.9994,  6.8923]) \t 2 \t 2\n",
      "13.] tensor([-2.0678,  3.8200, -0.7571]) \t 1 \t 1\n",
      "14.] tensor([-1.0768,  4.3741, -2.2838]) \t 1 \t 1\n",
      "15.] tensor([-7.4965,  2.6207,  5.3287]) \t 2 \t 2\n",
      "16.] tensor([-8.6136,  1.5508,  7.1186]) \t 2 \t 2\n",
      "17.] tensor([-3.7761,  3.6462,  0.9487]) \t 1 \t 1\n",
      "18.] tensor([-6.7608,  2.7754,  4.5281]) \t 2 \t 2\n",
      "19.] tensor([-1.7048,  4.1980, -1.4670]) \t 1 \t 1\n",
      "20.] tensor([  7.7757,   1.3740, -11.8864]) \t 0 \t 0\n",
      "21.] tensor([  6.8811,   1.5887, -10.8763]) \t 0 \t 0\n",
      "22.] tensor([-9.4350,  2.7012,  7.2406]) \t 2 \t 2\n",
      "23.] tensor([-5.7694,  3.0131,  3.3490]) \t 2 \t 2\n",
      "24.] tensor([  6.7561,   1.3467, -10.4799]) \t 0 \t 0\n",
      "25.] tensor([  6.7959,   1.0626, -10.2672]) \t 0 \t 0\n",
      "26.] tensor([-1.4388,  4.3212, -1.8930]) \t 1 \t 1\n",
      "27.] tensor([  7.8687,   1.2718, -11.9165]) \t 0 \t 0\n",
      "28.] tensor([-9.8075,  1.7086,  8.1659]) \t 2 \t 2\n",
      "29.] tensor([  7.3769,   1.3871, -11.3586]) \t 0 \t 0\n",
      "30.] tensor([  7.1775,   1.3937, -11.0947]) \t 0 \t 0\n",
      "\n",
      "Model predicted 30 correct out of 30!\n"
     ]
    }
   ],
   "execution_count": 11
  },
  {
   "cell_type": "code",
   "metadata": {
    "ExecuteTime": {
     "end_time": "2025-01-26T02:46:03.504257Z",
     "start_time": "2025-01-26T02:46:03.501433Z"
    }
   },
   "source": [
    "# 6. PREDICTIONS\n",
    "\n",
    "# Let's check how the model predicts with unseen NEW data\n",
    "\n",
    "# DIFF between model.forward(data) vs model(data)\n",
    "\n",
    "# When you call the model instance directly, the internal _call_ function is used. This function manages \n",
    "# all registered hooks and calls forward afterward. That’s also the reason you should call the model instance directly \n",
    "# when evaluating new data, because otherwise your hooks might not be called. \n",
    "# In that case nothing needs to be called before the forward method, but it's a good habit to adopt anyway.\n",
    "\n",
    "new_iris = torch.tensor([4.7, 3.2, 1.3, 0.2])\n",
    "\n",
    "with torch.no_grad():\n",
    "    pred = model(new_iris)\n",
    "\n",
    "    print(f'NEW data prediction: {pred} \\t {pred.argmax().item()}')\n",
    "\n",
    "# Since index 0 has highest value, 0 maps to 'Setosa' is the predicted flower"
   ],
   "outputs": [
    {
     "name": "stdout",
     "output_type": "stream",
     "text": [
      "NEW data prediction: tensor([  6.8839,   1.2461, -10.5586]) \t 0\n"
     ]
    }
   ],
   "execution_count": 12
  },
  {
   "cell_type": "code",
   "metadata": {
    "ExecuteTime": {
     "end_time": "2025-01-26T02:46:03.518752Z",
     "start_time": "2025-01-26T02:46:03.516059Z"
    }
   },
   "source": [
    "new_iris = torch.tensor([5.9, 3.0, 5.1, 1.8])\n",
    "\n",
    "with torch.no_grad():\n",
    "    pred = model(new_iris)\n",
    "\n",
    "    print(f'NEW data prediction: {pred} \\t {pred.argmax().item()}')\n"
   ],
   "outputs": [
    {
     "name": "stdout",
     "output_type": "stream",
     "text": [
      "NEW data prediction: tensor([-6.7321,  2.6617,  4.5484]) \t 2\n"
     ]
    }
   ],
   "execution_count": 13
  },
  {
   "cell_type": "code",
   "metadata": {
    "ExecuteTime": {
     "end_time": "2025-01-26T02:46:03.533148Z",
     "start_time": "2025-01-26T02:46:03.530618Z"
    }
   },
   "source": [
    "# 7. MODEL PERSISTENCE\n",
    "\n",
    "# Save this NN Model (Saves current state - all weights and biases)\n",
    "torch.save(model.state_dict(), 'iris-classification-nn.pt')"
   ],
   "outputs": [],
   "execution_count": 14
  },
  {
   "cell_type": "code",
   "metadata": {},
   "source": [
    "# 8. MODEL LOADING & USAGE\n",
    "\n",
    "# Load the saved Model\n",
    "new_model = IrisClassifierNN()\n",
    "\n",
    "new_model.load_state_dict(torch.load('iris-classification-nn.pt'))"
   ],
   "outputs": [],
   "execution_count": null
  },
  {
   "cell_type": "code",
   "metadata": {
    "ExecuteTime": {
     "end_time": "2025-01-26T02:46:03.562061Z",
     "start_time": "2025-01-26T02:46:03.559851Z"
    }
   },
   "source": [
    "# Make sure the model loaded correctly\n",
    "\n",
    "new_model.eval()"
   ],
   "outputs": [
    {
     "data": {
      "text/plain": [
       "IrisClassifierNN(\n",
       "  (fc1): Linear(in_features=4, out_features=8, bias=True)\n",
       "  (fc2): Linear(in_features=8, out_features=9, bias=True)\n",
       "  (out): Linear(in_features=9, out_features=3, bias=True)\n",
       ")"
      ]
     },
     "execution_count": 16,
     "metadata": {},
     "output_type": "execute_result"
    }
   ],
   "execution_count": 16
  },
  {
   "cell_type": "code",
   "metadata": {
    "ExecuteTime": {
     "end_time": "2025-01-26T02:46:03.623915Z",
     "start_time": "2025-01-26T02:46:03.621143Z"
    }
   },
   "source": [
    "new_iris = torch.tensor([5.9, 3.0, 5.1, 1.8])\n",
    "\n",
    "with torch.no_grad():\n",
    "    pred = new_model(new_iris)\n",
    "\n",
    "    print(f'NEW data prediction: {pred} \\t {pred.argmax().item()}')"
   ],
   "outputs": [
    {
     "name": "stdout",
     "output_type": "stream",
     "text": [
      "NEW data prediction: tensor([-6.7321,  2.6617,  4.5484]) \t 2\n"
     ]
    }
   ],
   "execution_count": 17
  }
 ],
 "metadata": {
  "kernelspec": {
   "display_name": "Python 3 (ipykernel)",
   "language": "python",
   "name": "python3"
  },
  "language_info": {
   "name": "python"
  }
 },
 "nbformat": 4,
 "nbformat_minor": 2
}
