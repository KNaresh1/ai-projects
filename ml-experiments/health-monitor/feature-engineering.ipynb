{
 "cells": [
  {
   "cell_type": "code",
   "execution_count": 37,
   "id": "3bcda718-9118-471a-b93c-494b1217cabf",
   "metadata": {},
   "outputs": [],
   "source": [
    "import requests\n",
    "\n",
    "BASE_URL = 'https://physionet.org/files/music-sudden-cardiac-death/1.0.0/High-resolution_ECG/'\n",
    "\n",
    "\n",
    "def download_physionet_files(record_id):\n",
    "    files = [f'{record_id}.dat', f'{record_id}.hea']\n",
    "\n",
    "    for file in files:\n",
    "        response = requests.get(BASE_URL + file)\n",
    "        if response.status_code == 200:\n",
    "            with open(file, 'wb') as f:\n",
    "                f.write(response.content)\n",
    "        else:\n",
    "            print(f'Failed to download the file {file}')\n",
    "               "
   ]
  },
  {
   "cell_type": "code",
   "execution_count": 38,
   "id": "d4a0d5eb-ab9b-44b8-9f2d-c84d8b25d917",
   "metadata": {},
   "outputs": [],
   "source": [
    "import os\n",
    "import wfdb\n",
    "import numpy as np\n",
    "import neurokit2 as nk\n",
    "from scipy import signal\n",
    "\n",
    "\n",
    "def extract_ecg_features(record_id):\n",
    "    \n",
    "    # First download the files\n",
    "    download_physionet_files(record_id)\n",
    "\n",
    "    record = wfdb.rdrecord(record_id)\n",
    "    signals = record.p_signal.T\n",
    "    features = {}\n",
    "\n",
    "    # Basic signal fetures\n",
    "    for channel in range(len(signals)):\n",
    "        signal_data = signals[channel]\n",
    "\n",
    "        # 1. Heart Rate\n",
    "        _, info = nk.ecg_peaks(signal_data, sampling_rate=record.fs)\n",
    "        # Calculate average RR intervals (time between R-peaks)\n",
    "        rr_intervals = np.diff(info['ECG_R_Peaks']) / record.fs  # Convert to seconds\n",
    "        # Calculate heart rate: 60 seconds / average RR interval\n",
    "        mean_hr = 60 / np.mean(rr_intervals)\n",
    "        features[f'heart_rate_ch{channel}'] = mean_hr\n",
    "\n",
    "\n",
    "\n",
    "    # Clean up downloaded files\n",
    "    os.remove(f'{record_id}.dat')\n",
    "    os.remove(f'{record_id}.hea')\n",
    "    \n",
    "    \n",
    "    return features"
   ]
  },
  {
   "cell_type": "code",
   "execution_count": 46,
   "id": "63757ea4-e0c3-4a1e-a4a5-94de806db186",
   "metadata": {},
   "outputs": [],
   "source": [
    "import pandas as pd\n",
    "\n",
    "def process_multiple_records(record_ids):\n",
    "     all_features = []\n",
    "\n",
    "     for record_id in record_ids:\n",
    "        try:\n",
    "            print(f'Processing record {record_id}')\n",
    "            \n",
    "            features = extract_ecg_features(record_id)\n",
    "            features['record_id'] = record_id\n",
    "            all_features.append(features)\n",
    "            \n",
    "        except Exception as e:\n",
    "            print(f'Error processing record {record_id} : {e}')\n",
    "                \n",
    "     return pd.DataFrame(all_features)\n"
   ]
  },
  {
   "cell_type": "code",
   "execution_count": 47,
   "id": "bbba0e04-07fd-4522-a05c-92e915575897",
   "metadata": {},
   "outputs": [],
   "source": [
    "def generate_record_ids():\n",
    "    record_ids = []\n",
    "    \n",
    "    for i in range(1, 899):  # 1 to 898\n",
    "        record_id = f\"P{str(i).zfill(4)}_H\"  # zfill pads with zeros, e.g., 0001\n",
    "        record_ids.append(record_id)\n",
    "    return record_ids"
   ]
  },
  {
   "cell_type": "code",
   "execution_count": null,
   "id": "2113a2d6-bee5-49b1-a100-681341183bb3",
   "metadata": {},
   "outputs": [],
   "source": [
    "record_ids = generate_record_ids()[:20]  # TODO: Test with first 20 records\n",
    "\n",
    "df = process_multiple_records(record_ids)\n",
    "df.to_csv('ecg_features.csv', index=False, float_format='%.4f')\n",
    "\n",
    "df_final = pd.read_csv('ecg_features.csv')\n",
    "print(\"\\nFinal DataFrame Shape:\", df_final.shape)"
   ]
  },
  {
   "cell_type": "code",
   "execution_count": null,
   "id": "6fd5ad67-8940-47d9-ba49-5ebb275805cf",
   "metadata": {},
   "outputs": [],
   "source": []
  }
 ],
 "metadata": {
  "kernelspec": {
   "display_name": "Python 3",
   "language": "python",
   "name": "python3"
  },
  "language_info": {
   "codemirror_mode": {
    "name": "ipython",
    "version": 3
   },
   "file_extension": ".py",
   "mimetype": "text/x-python",
   "name": "python",
   "nbconvert_exporter": "python",
   "pygments_lexer": "ipython3",
   "version": "3.10.10"
  }
 },
 "nbformat": 4,
 "nbformat_minor": 5
}
