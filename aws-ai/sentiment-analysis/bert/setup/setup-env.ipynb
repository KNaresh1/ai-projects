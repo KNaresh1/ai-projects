{
 "cells": [
  {
   "metadata": {},
   "cell_type": "code",
   "source": [
    "import subprocess\n",
    "\n",
    "# Define the environment file path and environment name\n",
    "env_file = './environment.yaml'\n",
    "env_name = 'drug-review-sentiment-analysis-env'\n",
    "\n",
    "def check_env_exists(env_name):\n",
    "    \"\"\"Check if a Conda environment with the given name already exists.\"\"\"\n",
    "    try:\n",
    "        output = subprocess.run(\n",
    "            ['conda', 'env', 'list'], capture_output=True, text=True, check=True\n",
    "        )\n",
    "        return any(env_name in line for line in output.stdout.splitlines())\n",
    "    except Exception as e:\n",
    "        print(\"Error checking environment:\", e)\n",
    "        return False\n",
    "\n",
    "# Create or update the Conda environment based on its existence\n",
    "if check_env_exists(env_name):\n",
    "    print(f\"Environment '{env_name}' exists. Updating...\")\n",
    "    subprocess.run(['conda', 'env', 'update', '--file', env_file, '--prune'], check=True)\n",
    "    print(\"Environment updated successfully.\")\n",
    "else:\n",
    "    print(f\"Environment '{env_name}' does not exist. Creating...\")\n",
    "    subprocess.run(['conda', 'env', 'create', '--file', env_file], check=True)\n",
    "    print(\"Environment created successfully.\")"
   ],
   "id": "5b409575cd097f86",
   "outputs": [],
   "execution_count": null
  },
  {
   "metadata": {},
   "cell_type": "code",
   "outputs": [],
   "execution_count": null,
   "source": "",
   "id": "5048c6cae4d5ebbb"
  }
 ],
 "metadata": {
  "kernelspec": {
   "display_name": "Python 3",
   "language": "python",
   "name": "python3"
  },
  "language_info": {
   "codemirror_mode": {
    "name": "ipython",
    "version": 2
   },
   "file_extension": ".py",
   "mimetype": "text/x-python",
   "name": "python",
   "nbconvert_exporter": "python",
   "pygments_lexer": "ipython2",
   "version": "2.7.6"
  }
 },
 "nbformat": 4,
 "nbformat_minor": 5
}
