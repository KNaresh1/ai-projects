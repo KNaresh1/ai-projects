{
 "cells": [
  {
   "metadata": {},
   "cell_type": "markdown",
   "source": "# Drug Review Sentiment Analysis",
   "id": "2956531af41fa279"
  },
  {
   "metadata": {
    "ExecuteTime": {
     "end_time": "2024-11-30T02:07:00.332750Z",
     "start_time": "2024-11-30T02:07:00.018903Z"
    }
   },
   "cell_type": "code",
   "source": [
    "import boto3\n",
    "\n",
    "bucket_name = 'drug-review-sentiment-analysis'\n",
    "\n",
    "s3 = boto3.resource('s3')\n",
    "\n",
    "try:\n",
    "    s3.create_bucket(Bucket=bucket_name)\n",
    "    print(\"S3 Bucket has been created successfully\")\n",
    "except Exception as e:\n",
    "    print('S3 error: ', e)"
   ],
   "id": "81d073941be21e2d",
   "outputs": [
    {
     "name": "stdout",
     "output_type": "stream",
     "text": [
      "S3 Bucket has been created successfully\n"
     ]
    }
   ],
   "execution_count": 5
  },
  {
   "metadata": {},
   "cell_type": "markdown",
   "source": [
    "## 1. Data Preparation\n",
    "> - Clean\n",
    "> - Pre-processing\n",
    "> - Transform"
   ],
   "id": "3ab290eba9e5aa79"
  },
  {
   "metadata": {},
   "cell_type": "markdown",
   "source": "#### 1.1 Data Collection",
   "id": "750963072b7a2b6b"
  },
  {
   "metadata": {
    "ExecuteTime": {
     "end_time": "2024-11-25T04:22:45.876724Z",
     "start_time": "2024-11-25T04:22:44.322043Z"
    }
   },
   "cell_type": "code",
   "source": [
    "import pandas as pd\n",
    "\n",
    "df_data = pd.read_csv('data.tsv', sep='\\t', index_col=0)\n",
    "df_data.reset_index(inplace=True)\n",
    "df_data.rename(columns={'index': 'UniqueId'}, inplace=True)\n",
    "\n",
    "print(\"Shape of dataset:\", df_data.shape)"
   ],
   "id": "4c969400b761a1fc",
   "outputs": [
    {
     "name": "stdout",
     "output_type": "stream",
     "text": [
      "Shape of dataset: (166, 7)\n"
     ]
    }
   ],
   "execution_count": 2
  },
  {
   "metadata": {
    "ExecuteTime": {
     "end_time": "2024-11-25T04:22:46.975542Z",
     "start_time": "2024-11-25T04:22:46.971531Z"
    }
   },
   "cell_type": "code",
   "source": "print(df_data.head())",
   "id": "4d16067056856325",
   "outputs": [
    {
     "name": "stdout",
     "output_type": "stream",
     "text": [
      "   UniqueId                  drugName                     condition  \\\n",
      "0    206461                 Valsartan  Left Ventricular Dysfunction   \n",
      "1     95260                Guanfacine                          ADHD   \n",
      "2     92703                    Lybrel                 Birth Control   \n",
      "3    138000                Ortho Evra                 Birth Control   \n",
      "4     35696  Buprenorphine / naloxone             Opiate Dependence   \n",
      "\n",
      "                                              review  rating  \\\n",
      "0  \"It has no side effect, I take it in combinati...     9.0   \n",
      "1  \"My son is halfway through his fourth week of ...     8.0   \n",
      "2  \"I used to take another oral contraceptive, wh...     5.0   \n",
      "3  \"This is my first time using any form of birth...     8.0   \n",
      "4  \"Suboxone has completely turned my life around...     9.0   \n",
      "\n",
      "                date  usefulCount  \n",
      "0       May 20, 2012           27  \n",
      "1     April 27, 2010          192  \n",
      "2  December 14, 2009           17  \n",
      "3   November 3, 2015           10  \n",
      "4  November 27, 2016           37  \n"
     ]
    }
   ],
   "execution_count": 3
  },
  {
   "metadata": {},
   "cell_type": "markdown",
   "source": "#### 1.1. Check for duplicate UniqueIds",
   "id": "3c082f3d11069eec"
  },
  {
   "metadata": {
    "ExecuteTime": {
     "end_time": "2024-11-25T04:22:49.700987Z",
     "start_time": "2024-11-25T04:22:49.696941Z"
    }
   },
   "cell_type": "code",
   "source": [
    "duplicate_count = df_data['UniqueId'].duplicated().sum()\n",
    "\n",
    "if duplicate_count > 0:\n",
    "    print(f\"Warning: {duplicate_count} duplicate UniqueId(s) found!\")\n",
    "else:\n",
    "    print(\"No duplicates found in the UniqueId column\")"
   ],
   "id": "af6632ce539276c8",
   "outputs": [
    {
     "name": "stdout",
     "output_type": "stream",
     "text": [
      "No duplicates found in the UniqueId column\n"
     ]
    }
   ],
   "execution_count": 4
  },
  {
   "metadata": {},
   "cell_type": "markdown",
   "source": "#### 1.1. Identify Target and Features\n",
   "id": "852074f4e1e9b0c0"
  },
  {
   "metadata": {},
   "cell_type": "markdown",
   "source": "#### 1.2. Remove Unnecessary Columns",
   "id": "af086b1bf424ef8"
  },
  {
   "metadata": {},
   "cell_type": "markdown",
   "source": "#### 1.4. Handle Missing Values",
   "id": "d77cddce31695831"
  },
  {
   "metadata": {},
   "cell_type": "markdown",
   "source": "#### 1.5. Add a new column `sentiment`",
   "id": "ac37d22e1a51d857"
  },
  {
   "metadata": {
    "ExecuteTime": {
     "end_time": "2024-11-25T04:22:52.232011Z",
     "start_time": "2024-11-25T04:22:52.226879Z"
    }
   },
   "cell_type": "code",
   "source": [
    "def map_sentiment(rating):\n",
    "    return '1' if rating >= 7 else '0'\n",
    "\n",
    "df_data['label'] = df_data['rating'].apply(map_sentiment)\n",
    "\n",
    "# Rename columns for Hugging Face format\n",
    "data_final = df_data.rename(columns={'review': 'text'})[['text', 'label']]\n",
    "\n",
    "print(data_final.head())"
   ],
   "id": "8a1e779e26cd428a",
   "outputs": [
    {
     "name": "stdout",
     "output_type": "stream",
     "text": [
      "                                                text label\n",
      "0  \"It has no side effect, I take it in combinati...     1\n",
      "1  \"My son is halfway through his fourth week of ...     1\n",
      "2  \"I used to take another oral contraceptive, wh...     0\n",
      "3  \"This is my first time using any form of birth...     1\n",
      "4  \"Suboxone has completely turned my life around...     1\n"
     ]
    }
   ],
   "execution_count": 5
  },
  {
   "metadata": {
    "ExecuteTime": {
     "end_time": "2024-11-25T04:22:55.126878Z",
     "start_time": "2024-11-25T04:22:54.655124Z"
    }
   },
   "cell_type": "code",
   "source": [
    "import matplotlib.pyplot as plt\n",
    "\n",
    "# Group the data by the 'rating' column and calculate the counts\n",
    "rating_counts = df_data['rating'].value_counts().sort_index()\n",
    "\n",
    "# Extract labels (rating levels) and corresponding percentages\n",
    "labels = rating_counts.index\n",
    "sizes = (rating_counts / rating_counts.sum()) * 100  # Convert counts to percentages\n",
    "\n",
    "# Plot the pie chart\n",
    "plt.figure(figsize=(8, 6))\n",
    "plt.pie(sizes, labels=labels, autopct='%1.1f%%', startangle=90, textprops={'fontsize': 8}, colors=plt.cm.Pastel1.colors)\n",
    "plt.title('Distribution of Drug Review Ratings in %', fontsize=16)\n",
    "plt.axis('equal')  # Equal aspect ratio ensures the pie chart is circular\n",
    "plt.show()"
   ],
   "id": "21bd3fe646fcebd5",
   "outputs": [
    {
     "data": {
      "text/plain": [
       "<Figure size 800x600 with 1 Axes>"
      ],
      "image/png": "[encoded data removed]"
     },
     "metadata": {},
     "output_type": "display_data"
    }
   ],
   "execution_count": 6
  },
  {
   "metadata": {
    "ExecuteTime": {
     "end_time": "2024-11-25T04:22:57.870662Z",
     "start_time": "2024-11-25T04:22:57.801107Z"
    }
   },
   "cell_type": "code",
   "source": [
    "# Count the positive and negative ratings\n",
    "sentiment_counts = df_data['label'].value_counts()\n",
    "\n",
    "# Define the figure and grid\n",
    "fig, ax = plt.subplots(figsize=(6, 6))\n",
    "\n",
    "# Plot the grid chart as a bar plot\n",
    "sentiment_counts.plot(kind='bar', ax=ax, color=['green', 'red'], alpha=0.7)\n",
    "\n",
    "# Add titles and labels\n",
    "ax.set_title('Positive vs Negative Ratings', fontsize=16)\n",
    "ax.set_xlabel('Sentiment', fontsize=12)\n",
    "ax.set_ylabel('Count', fontsize=12)\n",
    "ax.set_xticks([0, 1])\n",
    "ax.set_xticklabels(['Positive', 'Negative'], fontsize=10)\n",
    "ax.bar_label(ax.containers[0])  # Add count labels on bars\n",
    "\n",
    "# Show the plot\n",
    "plt.grid(axis='y', linestyle='--', alpha=0.7)\n",
    "plt.tight_layout()\n",
    "plt.show()"
   ],
   "id": "fe10803a58a6f1a5",
   "outputs": [
    {
     "data": {
      "text/plain": [
       "<Figure size 600x600 with 1 Axes>"
      ],
      "image/png": "[encoded data removed]"
     },
     "metadata": {},
     "output_type": "display_data"
    }
   ],
   "execution_count": 7
  },
  {
   "metadata": {},
   "cell_type": "markdown",
   "source": "#### 1.6. Text Processing",
   "id": "88a477bbbdc57137"
  },
  {
   "metadata": {
    "ExecuteTime": {
     "end_time": "2024-11-25T04:23:00.877175Z",
     "start_time": "2024-11-25T04:23:00.834414Z"
    }
   },
   "cell_type": "code",
   "source": [
    "import re\n",
    "from html import unescape\n",
    "\n",
    "def preprocess_review(text):\n",
    "    # Unescape HTML entities\n",
    "    text = unescape(text)\n",
    "\n",
    "    # Remove unwanted characters (e.g., double quotes, commas, hyphens)\n",
    "    text = re.sub(r'[\\\"\\'\\,\\-]', '', text)\n",
    "\n",
    "    # Normalize whitespace (remove extra spaces)\n",
    "    text = re.sub(r'\\s+', ' ', text).strip()\n",
    "\n",
    "    return text\n",
    "\n",
    "data_final.loc['text'] = data_final['text'].apply(preprocess_review)\n",
    "\n",
    "print(data_final.head())"
   ],
   "id": "e979cce60d10ec11",
   "outputs": [
    {
     "name": "stdout",
     "output_type": "stream",
     "text": [
      "                                                text label\n",
      "0  \"It has no side effect, I take it in combinati...     1\n",
      "1  \"My son is halfway through his fourth week of ...     1\n",
      "2  \"I used to take another oral contraceptive, wh...     0\n",
      "3  \"This is my first time using any form of birth...     1\n",
      "4  \"Suboxone has completely turned my life around...     1\n"
     ]
    }
   ],
   "execution_count": 8
  },
  {
   "metadata": {},
   "cell_type": "markdown",
   "source": "#### 1.7. Class Imbalance handling",
   "id": "66f638d5c2dff6f3"
  },
  {
   "metadata": {},
   "cell_type": "markdown",
   "source": "#### 1.9. Train-Test Split",
   "id": "9a095f92e88d8651"
  },
  {
   "metadata": {
    "ExecuteTime": {
     "end_time": "2024-11-25T04:23:04.398988Z",
     "start_time": "2024-11-25T04:23:03.321604Z"
    }
   },
   "cell_type": "code",
   "source": [
    "# Split the data into training and testing sets\n",
    "\n",
    "from sklearn.model_selection import train_test_split\n",
    "\n",
    "train_data, test_data = train_test_split(data_final, test_size=0.2, random_state=42)\n",
    "\n",
    "print(train_data.shape, test_data.shape)"
   ],
   "id": "850200fae192baaf",
   "outputs": [
    {
     "name": "stdout",
     "output_type": "stream",
     "text": [
      "(133, 2) (34, 2)\n"
     ]
    }
   ],
   "execution_count": 9
  },
  {
   "metadata": {},
   "cell_type": "markdown",
   "source": "#### 1.10. Load data to S3 Bucket",
   "id": "6aa424017c18ddaa"
  },
  {
   "metadata": {
    "ExecuteTime": {
     "end_time": "2024-11-25T04:23:08.106812Z",
     "start_time": "2024-11-25T04:23:06.643132Z"
    }
   },
   "cell_type": "code",
   "source": [
    "prefix = 'bert-algorithm'\n",
    "\n",
    "# Define S3 paths for JSON files\n",
    "train_csv_path = 's3://{}/{}/{}/{}'.format(bucket_name, prefix, 'train', 'train.csv')\n",
    "test_csv_path = 's3://{}/{}/{}/{}'.format(bucket_name, prefix, 'test', 'test.csv')\n",
    "\n",
    "train_data.to_csv(train_csv_path, index=False)\n",
    "print(f\"Train data uploaded to: {train_csv_path}\")\n",
    "\n",
    "test_data.to_csv(test_csv_path, index=False)\n",
    "print(f\"Test data uploaded to: {test_csv_path}\")\n"
   ],
   "id": "b081a4c873a356b5",
   "outputs": [
    {
     "name": "stdout",
     "output_type": "stream",
     "text": [
      "Train data uploaded to: s3://drug-review-sentiment-analysis/bert-algorithm/train/train.csv\n",
      "Test data uploaded to: s3://drug-review-sentiment-analysis/bert-algorithm/test/test.csv\n"
     ]
    }
   ],
   "execution_count": 10
  },
  {
   "metadata": {},
   "cell_type": "markdown",
   "source": "## 2. Model Building",
   "id": "2f0832f03d28b2d5"
  },
  {
   "metadata": {
    "ExecuteTime": {
     "end_time": "2024-11-25T04:23:11.751946Z",
     "start_time": "2024-11-25T04:23:11.449207Z"
    }
   },
   "cell_type": "code",
   "source": [
    "role_name = 'sagemaker-and-s3-role'\n",
    "\n",
    "iam = boto3.client('iam')\n",
    "\n",
    "role_arn = iam.get_role(RoleName=role_name)['Role']['Arn']\n",
    "print(f\"AWS Role ARN retrieved successfully\")"
   ],
   "id": "a3c3d3ca535ddb34",
   "outputs": [
    {
     "name": "stdout",
     "output_type": "stream",
     "text": [
      "AWS Role ARN retrieved successfully\n"
     ]
    }
   ],
   "execution_count": 11
  },
  {
   "metadata": {
    "ExecuteTime": {
     "end_time": "2024-11-25T04:23:14.095536Z",
     "start_time": "2024-11-25T04:23:14.092847Z"
    }
   },
   "cell_type": "code",
   "source": [
    "output_path = 's3://{}/{}/{}/'.format(bucket_name, prefix, 'output')\n",
    "\n",
    "print(f\"Model output path: {output_path}\")"
   ],
   "id": "478ef8fa76835bda",
   "outputs": [
    {
     "name": "stdout",
     "output_type": "stream",
     "text": [
      "Model output path: s3://drug-review-sentiment-analysis/bert-algorithm/output/\n"
     ]
    }
   ],
   "execution_count": 12
  },
  {
   "metadata": {
    "ExecuteTime": {
     "end_time": "2024-11-25T04:23:17.348924Z",
     "start_time": "2024-11-25T04:23:17.345700Z"
    }
   },
   "cell_type": "code",
   "source": [
    "MODEL_NAME = 'google-bert/bert-base-uncased'\n",
    "\n",
    "hyperparameters = {\n",
    "\t'model_name_or_path': MODEL_NAME,  # Pre-trained model to fine-tune\n",
    "    'output_dir': output_path,  # Directory to save fine-tuned model and outputs\n",
    "    'learning_rate': 2e-5,\n",
    "    'per_device_train_batch_size': 16,\n",
    "    'per_device_eval_batch_size': 16,\n",
    "    'num_train_epochs': 4,  # Number of times the model sees the entire training dataset\n",
    "    'warmup_steps': 500,  # Steps to gradually increase learning rate at the start\n",
    "    'weight_decay': 0.01,  # Regularization term to reduce overfitting\n",
    "    'evaluation_strategy': 'steps',  # Evaluate the model after every specified number of steps\n",
    "    'eval_steps': 500,  # Number of steps between evaluations\n",
    "    'logging_dir': f\"{output_path}/logs\",\n",
    "    'max_seq_length': 256,  # Maximum input sequence length after tokenization\n",
    "    'save_total_limit': 2,  # Retain only the latest 2 model checkpoints\n",
    "    'load_best_model_at_end': True, # Automatically load the best model after training\n",
    "    'metric_for_best_model': 'accuracy',   # Metric to decide the best model (e.g., accuracy)\n",
    "    'greater_is_better': True,   # Optimize for higher values of the evaluation metric\n",
    "    'train_file': train_csv_path,\n",
    "    'validation_file': test_csv_path,\n",
    "    'do_train': True,\n",
    "    'do_eval': True\n",
    "}\n",
    "\n",
    "# git configuration to download our fine-tuning script\n",
    "git_config = {'repo': 'https://github.com/huggingface/transformers.git','branch': 'v4.36.0'}"
   ],
   "id": "26eafc5ca00e4b95",
   "outputs": [],
   "execution_count": 13
  },
  {
   "metadata": {
    "ExecuteTime": {
     "end_time": "2024-11-25T04:23:26.883774Z",
     "start_time": "2024-11-25T04:23:26.854969Z"
    }
   },
   "cell_type": "code",
   "source": [
    "from sagemaker.huggingface import HuggingFace\n",
    "\n",
    "# Creates Hugging Face estimator\n",
    "huggingface_estimator = HuggingFace(\n",
    "\tentry_point='run_glue.py',\n",
    "\tsource_dir='./examples/pytorch/text-classification',\n",
    "\tinstance_type='ml.p3.2xlarge',\n",
    "\tinstance_count=1,\n",
    "\trole=role_arn,\n",
    "\tgit_config=git_config,\n",
    "\ttransformers_version='4.36.0',\n",
    "\tpytorch_version='2.1.0',\n",
    "\tpy_version='py310',\n",
    "\thyperparameters = hyperparameters,\n",
    "    env={\"TOKENIZERS_PARALLELISM\": \"false\"}\n",
    ")\n"
   ],
   "id": "c139b72a48de08a3",
   "outputs": [],
   "execution_count": 15
  },
  {
   "metadata": {
    "ExecuteTime": {
     "end_time": "2024-11-25T04:23:29.359571Z",
     "start_time": "2024-11-25T04:23:29.356896Z"
    }
   },
   "cell_type": "code",
   "source": [
    "from sagemaker import TrainingInput\n",
    "\n",
    "content_type = 'csv'\n",
    "train_input = TrainingInput('s3://{}/{}/{}/'.format(bucket_name, prefix, 'train'), content_type=content_type)\n",
    "test_input = TrainingInput('s3://{}/{}/{}/'.format(bucket_name, prefix, 'test'), content_type=content_type)"
   ],
   "id": "e10b3cf9e65b836",
   "outputs": [],
   "execution_count": 16
  },
  {
   "metadata": {},
   "cell_type": "code",
   "source": [
    "# Start to train the job\n",
    "huggingface_estimator.fit({\"train\": train_input, \"validation\": test_input})"
   ],
   "id": "2430f99cfd96a411",
   "outputs": [],
   "execution_count": null
  },
  {
   "metadata": {},
   "cell_type": "markdown",
   "source": "## 3. Deploy Model",
   "id": "acf25c4de9beb8c2"
  },
  {
   "metadata": {},
   "cell_type": "code",
   "outputs": [],
   "execution_count": null,
   "source": [
    "from sagemaker.huggingface import HuggingFaceModel\n",
    "\n",
    "# Hub Model configuration. https://huggingface.co/models\n",
    "hub = {\n",
    "\t'HF_MODEL_ID':MODEL_NAME,\n",
    "\t'HF_TASK':'fill-mask'\n",
    "}\n",
    "\n",
    "huggingface_model = HuggingFaceModel(\n",
    "\ttransformers_version='4.36.0',\n",
    "\tpytorch_version='2.1.0',\n",
    "\tpy_version='py310',\n",
    "\tenv=hub,\n",
    "\trole=role_arn, \n",
    ")\n",
    "\n",
    "# deploy model to SageMaker Inference\n",
    "predictor = huggingface_model.deploy(\n",
    "\tinitial_instance_count=1,\n",
    "\tinstance_type='ml.m5.xlarge' # ec2 instance type\n",
    ")"
   ],
   "id": "d5ebe91a03ed2a1d"
  },
  {
   "metadata": {},
   "cell_type": "markdown",
   "source": "## 4. Predict",
   "id": "fb2efc2a689c8c44"
  },
  {
   "metadata": {},
   "cell_type": "code",
   "outputs": [],
   "execution_count": null,
   "source": [
    "predictor.predict({\n",
    "\t\"inputs\": \"The answer to the universe is [MASK].\",\n",
    "})"
   ],
   "id": "598598ce20f71ad7"
  },
  {
   "metadata": {},
   "cell_type": "markdown",
   "source": "## 5. Evaluate",
   "id": "1ca62936b9f147dd"
  },
  {
   "metadata": {},
   "cell_type": "markdown",
   "source": "### 5. Cleanup and Terminate",
   "id": "cfa2165250e4a53"
  },
  {
   "metadata": {},
   "cell_type": "code",
   "source": [
    "boto3.resource(\"s3\").Bucket('drug-review-sentiment-analysis').objects.all().delete()\n",
    "# boto3.resource(\"s3\").Bucket('drug-review-sentiment-analysis ').delete()"
   ],
   "id": "87cf5b15cc392e80",
   "outputs": [],
   "execution_count": null
  }
 ],
 "metadata": {
  "kernelspec": {
   "display_name": "Python 3",
   "language": "python",
   "name": "python3"
  },
  "language_info": {
   "codemirror_mode": {
    "name": "ipython",
    "version": 2
   },
   "file_extension": ".py",
   "mimetype": "text/x-python",
   "name": "python",
   "nbconvert_exporter": "python",
   "pygments_lexer": "ipython2",
   "version": "2.7.6"
  }
 },
 "nbformat": 4,
 "nbformat_minor": 5
}
