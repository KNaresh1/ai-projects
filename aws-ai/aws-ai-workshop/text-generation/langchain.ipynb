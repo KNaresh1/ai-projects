{
 "cells": [
  {
   "metadata": {},
   "cell_type": "markdown",
   "source": "https://python.langchain.com/docs/integrations/chat/bedrock/",
   "id": "5222cf5f559dcaae"
  },
  {
   "metadata": {},
   "cell_type": "code",
   "source": "# %pip install -qU langchain-aws",
   "id": "79e3e89d727d7678",
   "outputs": [],
   "execution_count": null
  },
  {
   "metadata": {},
   "cell_type": "code",
   "source": "from langchain_aws import ChatBedrock",
   "id": "ea36b29f21e2659f",
   "outputs": [],
   "execution_count": null
  },
  {
   "metadata": {},
   "cell_type": "code",
   "source": [
    "# Don't have access to model 'anthropic.claude-3' so using amazon.titan just for testing\n",
    "\n",
    "client = ChatBedrock(model_id=\"amazon.titan-text-express-v1\",model_kwargs=dict(temperature=0.9)) \n",
    "\n",
    "messages = [\n",
    "    (\n",
    "        \"system\",\n",
    "        \"You are a helpful assistant that translates English to French. Translate the user sentence.\",\n",
    "    ),\n",
    "    (\"human\", \"I love programming.\"),\n",
    "]"
   ],
   "id": "822594fd0006407e",
   "outputs": [],
   "execution_count": null
  },
  {
   "metadata": {},
   "cell_type": "code",
   "source": [
    "response = client.invoke(messages)\n",
    "\n",
    "print(response.content)"
   ],
   "id": "e60f8401e0b7a367",
   "outputs": [],
   "execution_count": null
  }
 ],
 "metadata": {
  "kernelspec": {
   "display_name": "Python 3",
   "language": "python",
   "name": "python3"
  },
  "language_info": {
   "codemirror_mode": {
    "name": "ipython",
    "version": 2
   },
   "file_extension": ".py",
   "mimetype": "text/x-python",
   "name": "python",
   "nbconvert_exporter": "python",
   "pygments_lexer": "ipython2",
   "version": "2.7.6"
  }
 },
 "nbformat": 4,
 "nbformat_minor": 5
}
