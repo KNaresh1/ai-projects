{
 "cells": [
  {
   "cell_type": "code",
   "id": "initial_id",
   "metadata": {
    "collapsed": true
   },
   "source": [
    "import json\n",
    "import os\n",
    "\n",
    "import boto3\n",
    "import certifi"
   ],
   "outputs": [],
   "execution_count": null
  },
  {
   "metadata": {},
   "cell_type": "code",
   "source": "client = boto3.client(\"bedrock-runtime\", \"us-east-1\")",
   "id": "4ed0a74868d7f6e1",
   "outputs": [],
   "execution_count": null
  },
  {
   "metadata": {},
   "cell_type": "code",
   "source": [
    "prompt_data = \"\"\"\n",
    "Please provide a summary of the following text. Do not add any information that is not mentioned in the text below.\n",
    "\n",
    "<text>\n",
    "AWS took all of that feedback from customers, and today we are excited to announce Amazon Bedrock, \\\n",
    "a new service that makes FMs from AI21 Labs, Anthropic, Stability AI, and Amazon accessible via an API. \\\n",
    "Bedrock is the easiest way for customers to build and scale generative AI-based applications using FMs, \\\n",
    "democratizing access for all builders. Bedrock will offer the ability to access a range of powerful FMs \\\n",
    "for text and images—including Amazons Titan FMs, which consist of two new LLMs we’re also announcing \\\n",
    "today—through a scalable, reliable, and secure AWS managed service. With Bedrock’s serverless experience, \\\n",
    "customers can easily find the right model for what they’re trying to get done, get started quickly, privately \\\n",
    "customize FMs with their own data, and easily integrate and deploy them into their applications using the AWS \\\n",
    "tools and capabilities they are familiar with, without having to manage any infrastructure (including integrations \\\n",
    "with Amazon SageMaker ML features like Experiments to test different models and Pipelines to manage their FMs at scale).\n",
    "</text>\n",
    "\n",
    "\"\"\"\n",
    "\n",
    "payload = {\n",
    "    \"inputText\": prompt_data,\n",
    "    \"textGenerationConfig\": {\n",
    "        \"maxTokenCount\": 1024,\n",
    "        \"temperature\": 0,\n",
    "        \"topP\": 1,\n",
    "        \"stopSequences\": [],\n",
    "    }\n",
    "}"
   ],
   "id": "293d6943326f3454",
   "outputs": [],
   "execution_count": null
  },
  {
   "metadata": {},
   "cell_type": "code",
   "source": [
    "os.environ['SSL_CERT_FILE'] = certifi.where()\n",
    "\n",
    "response = client.invoke_model(\n",
    "    modelId=\"amazon.titan-text-express-v1\",\n",
    "    accept='application/json',\n",
    "    contentType='application/json',\n",
    "    body=json.dumps(payload)\n",
    ")"
   ],
   "id": "a97fed0e6508caa1",
   "outputs": [],
   "execution_count": null
  },
  {
   "metadata": {},
   "cell_type": "code",
   "source": [
    "response_body = json.loads(response.get(\"body\").read())\n",
    "outputText = response_body.get(\"results\")[0].get(\"outputText\")\n",
    "\n",
    "print(outputText)"
   ],
   "id": "999a75071de6cf98",
   "outputs": [],
   "execution_count": null
  }
 ],
 "metadata": {
  "kernelspec": {
   "display_name": "Python 3",
   "language": "python",
   "name": "python3"
  },
  "language_info": {
   "codemirror_mode": {
    "name": "ipython",
    "version": 2
   },
   "file_extension": ".py",
   "mimetype": "text/x-python",
   "name": "python",
   "nbconvert_exporter": "python",
   "pygments_lexer": "ipython2",
   "version": "2.7.6"
  }
 },
 "nbformat": 4,
 "nbformat_minor": 5
}
