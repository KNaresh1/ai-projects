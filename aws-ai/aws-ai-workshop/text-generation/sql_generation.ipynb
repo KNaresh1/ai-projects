{
 "cells": [
  {
   "cell_type": "code",
   "id": "initial_id",
   "metadata": {
    "collapsed": true
   },
   "source": [
    "import json\n",
    "import os\n",
    "\n",
    "import boto3\n",
    "import certifi"
   ],
   "outputs": [],
   "execution_count": null
  },
  {
   "metadata": {},
   "cell_type": "code",
   "source": "client = boto3.client(\"bedrock-runtime\", \"us-east-1\")",
   "id": "eef122d3398d89c1",
   "outputs": [],
   "execution_count": null
  },
  {
   "metadata": {},
   "cell_type": "code",
   "source": [
    "prompt_data = \"\"\"\n",
    "Human: AnyCompany has a database with a table named sales_data containing sales records. The table has following columns:\n",
    "- date (YYYY-MM-DD)\n",
    "- product_id\n",
    "- price\n",
    "- units_sold\n",
    "\n",
    "Can you generate SQL queries for the below: \n",
    "- Identify the top 5 best selling products by total sales for the year 2023\n",
    "- Calculate the monthly average sales for the year 2023\n",
    "\n",
    "Assistant:\n",
    "\"\"\"\n",
    "\n",
    "payload = {\n",
    "    \"inputText\": prompt_data,\n",
    "    \"textGenerationConfig\": {\n",
    "        \"maxTokenCount\": 512,\n",
    "        \"temperature\": 0.5,\n",
    "        \"topP\": 0.9,\n",
    "        \"stopSequences\": [],\n",
    "    }\n",
    "}"
   ],
   "id": "e78a0bfa13547c7b",
   "outputs": [],
   "execution_count": null
  },
  {
   "metadata": {},
   "cell_type": "code",
   "source": [
    "os.environ['SSL_CERT_FILE'] = certifi.where()\n",
    "\n",
    "response = client.invoke_model(\n",
    "    modelId=\"amazon.titan-text-express-v1\",\n",
    "    accept='application/json',\n",
    "    contentType='application/json',\n",
    "    body=json.dumps(payload)\n",
    ")"
   ],
   "id": "fd9b8c9d859ace4f",
   "outputs": [],
   "execution_count": null
  },
  {
   "metadata": {},
   "cell_type": "code",
   "source": [
    "response_body = json.loads(response.get(\"body\").read())\n",
    "\n",
    "for result in response_body['results']:\n",
    "    print(f\"Token count: {result['tokenCount']}\")\n",
    "    print(f\"Output text: {result['outputText']}\")\n",
    "    print(f\"Completion reason: {result['completionReason']}\")"
   ],
   "id": "1211d7adfd25bf9d",
   "outputs": [],
   "execution_count": null
  }
 ],
 "metadata": {
  "kernelspec": {
   "display_name": "Python 3",
   "language": "python",
   "name": "python3"
  },
  "language_info": {
   "codemirror_mode": {
    "name": "ipython",
    "version": 2
   },
   "file_extension": ".py",
   "mimetype": "text/x-python",
   "name": "python",
   "nbconvert_exporter": "python",
   "pygments_lexer": "ipython2",
   "version": "2.7.6"
  }
 },
 "nbformat": 4,
 "nbformat_minor": 5
}
