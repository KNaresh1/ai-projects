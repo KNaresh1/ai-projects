{
 "cells": [
  {
   "metadata": {},
   "cell_type": "markdown",
   "source": "https://docs.llamaindex.ai/en/stable/examples/llm/bedrock/",
   "id": "937f552484c056a0"
  },
  {
   "cell_type": "code",
   "id": "initial_id",
   "metadata": {
    "collapsed": true
   },
   "source": [
    "# %pip install llama-index-llms-bedrock\n",
    "\n",
    "# %pip show llama-index-llms-bedrock"
   ],
   "outputs": [],
   "execution_count": null
  },
  {
   "metadata": {},
   "cell_type": "code",
   "source": "# !pip install llama-index",
   "id": "c635c87821006878",
   "outputs": [],
   "execution_count": null
  },
  {
   "metadata": {},
   "cell_type": "code",
   "source": "from llama_index.llms.bedrock import Bedrock",
   "id": "dc3c1c18bd243447",
   "outputs": [],
   "execution_count": null
  },
  {
   "metadata": {},
   "cell_type": "code",
   "source": "client = Bedrock(model=\"amazon.titan-text-express-v1\")",
   "id": "db766eb80c775226",
   "outputs": [],
   "execution_count": null
  },
  {
   "metadata": {},
   "cell_type": "code",
   "source": [
    "response = client.complete(\"Star Trek is\")\n",
    "\n",
    "print(response)"
   ],
   "id": "9ee6f038f64e2d83",
   "outputs": [],
   "execution_count": null
  }
 ],
 "metadata": {
  "kernelspec": {
   "display_name": "Python 3",
   "language": "python",
   "name": "python3"
  },
  "language_info": {
   "codemirror_mode": {
    "name": "ipython",
    "version": 2
   },
   "file_extension": ".py",
   "mimetype": "text/x-python",
   "name": "python",
   "nbconvert_exporter": "python",
   "pygments_lexer": "ipython2",
   "version": "2.7.6"
  }
 },
 "nbformat": 4,
 "nbformat_minor": 5
}
