{
 "cells": [
  {
   "cell_type": "code",
   "id": "initial_id",
   "metadata": {
    "collapsed": true,
    "jupyter": {
     "outputs_hidden": true
    }
   },
   "source": [
    "import json\n",
    "import os\n",
    "\n",
    "import boto3\n",
    "import certifi"
   ],
   "outputs": [],
   "execution_count": null
  },
  {
   "cell_type": "code",
   "id": "1602b9612951111f",
   "metadata": {},
   "source": [
    "client = boto3.client(\"bedrock-runtime\", \"us-east-1\")"
   ],
   "outputs": [],
   "execution_count": null
  },
  {
   "cell_type": "code",
   "id": "d4989bee48862081",
   "metadata": {},
   "source": [
    "# create sales.csv file\n",
    "import csv\n",
    "\n",
    "data = [\n",
    "    [\"date\", \"product_id\", \"price\", \"units_sold\"],\n",
    "    [\"2023-01-01\", \"P001\", 50, 20],\n",
    "    [\"2023-01-02\", \"P002\", 60, 15],\n",
    "    [\"2023-01-03\", \"P001\", 50, 18],\n",
    "    [\"2023-01-04\", \"P003\", 70, 30],\n",
    "    [\"2023-01-05\", \"P001\", 50, 25],\n",
    "    [\"2023-01-06\", \"P002\", 60, 22],\n",
    "    [\"2023-01-07\", \"P003\", 70, 24],\n",
    "    [\"2023-01-08\", \"P001\", 50, 28],\n",
    "    [\"2023-01-09\", \"P002\", 60, 17],\n",
    "    [\"2023-01-10\", \"P003\", 70, 29],\n",
    "    [\"2023-02-11\", \"P001\", 50, 23],\n",
    "    [\"2023-02-12\", \"P002\", 60, 19],\n",
    "    [\"2023-02-13\", \"P001\", 50, 21],\n",
    "    [\"2023-02-14\", \"P003\", 70, 31],\n",
    "    [\"2023-03-15\", \"P001\", 50, 26],\n",
    "    [\"2023-03-16\", \"P002\", 60, 20],\n",
    "    [\"2023-03-17\", \"P003\", 70, 33],\n",
    "    [\"2023-04-18\", \"P001\", 50, 27],\n",
    "    [\"2023-04-19\", \"P002\", 60, 18],\n",
    "    [\"2023-04-20\", \"P003\", 70, 32],\n",
    "    [\"2023-04-21\", \"P001\", 50, 22],\n",
    "    [\"2023-04-22\", \"P002\", 60, 16],\n",
    "    [\"2023-04-23\", \"P003\", 70, 34],\n",
    "    [\"2023-05-24\", \"P001\", 50, 24],\n",
    "    [\"2023-05-25\", \"P002\", 60, 21]\n",
    "]\n",
    "\n",
    "# Write data to sales.csv\n",
    "with open('sales.csv', 'w', newline='') as csvfile:\n",
    "    writer = csv.writer(csvfile)\n",
    "    writer.writerows(data)\n",
    "\n",
    "print(\"sales.csv has been created!\")"
   ],
   "outputs": [],
   "execution_count": null
  },
  {
   "cell_type": "code",
   "id": "49f32bb2adcf2a15",
   "metadata": {},
   "source": [
    "# Create the prompt\n",
    "# Analyzing sales\n",
    "\n",
    "prompt_data = \"\"\"\n",
    "You have a CSV, sales.csv, with columns:\n",
    "- date (YYYY-MM-DD)\n",
    "- product_id\n",
    "- price\n",
    "- units_sold\n",
    "\n",
    "Create a python program to analyze the sales data from a CSV file. The program should be able to read the data, and determine below:\n",
    "\n",
    "- Total revenue for the year\n",
    "- The product with the highest revenue\n",
    "- The date with the highest revenue\n",
    "- Visualize monthly sales using a bar chart\n",
    "\n",
    "Ensure the code is syntactically correct, bug-free, optimized, not span multiple lines unnessarily, and prefer to use standard libraries. Return only python code without any surrounding text, explanation or context.\n",
    "Do not use pandas library for the solution.\n",
    "\"\"\"\n",
    "\n",
    "payload = {\n",
    "    \"anthropic_version\": \"bedrock-2023-05-31\",\n",
    "    \"max_tokens\": 4096,\n",
    "    \"temperature\": 0.1,\n",
    "    \"top_k\":250,\n",
    "    \"top_p\":0.99,\n",
    "    \"messages\": [\n",
    "        {\n",
    "            \"role\": \"user\",\n",
    "            \"content\": [{\"type\": \"text\", \"text\": prompt_data}]\n",
    "        }\n",
    "    ],\n",
    "}"
   ],
   "outputs": [],
   "execution_count": null
  },
  {
   "cell_type": "code",
   "id": "cb8f0304728a2d0d",
   "metadata": {},
   "source": [
    "os.environ['SSL_CERT_FILE'] = certifi.where()\n",
    "\n",
    "# No access to anthropic.claude-3-sonnet-20240229-v1:0 in amazon bedrock\n",
    "\n",
    "response = client.invoke_model(\n",
    "    # modelId=\"anthropic.claude-3-sonnet-20240229-v1:0\",\n",
    "    accept='application/json',\n",
    "    contentType='application/json',\n",
    "    body=json.dumps(payload)\n",
    ")"
   ],
   "outputs": [],
   "execution_count": null
  },
  {
   "cell_type": "code",
   "id": "fd360747bf18951e",
   "metadata": {},
   "source": [
    "# from IPython.display import display_markdown, Markdown\n",
    "\n",
    "# response_body = json.loads(response.get('body').read())\n",
    "\n",
    "# display_markdown(Markdown(print(response_body[\"content\"][0][\"text\"], end='')))"
   ],
   "outputs": [],
   "execution_count": null
  },
  {
   "cell_type": "code",
   "id": "5802a5fba5dd6395",
   "metadata": {},
   "source": [
    "# Sample Generated Python Code ( Generated with Amazon Bedrock in previous step)\n",
    "\n",
    "import csv\n",
    "from collections import defaultdict\n",
    "import matplotlib.pyplot as plt\n",
    "\n",
    "revenue = 0\n",
    "monthly_revenue = defaultdict(int)\n",
    "product_revenue = defaultdict(int)\n",
    "max_revenue = 0\n",
    "max_revenue_date = ''\n",
    "max_revenue_product = ''\n",
    "\n",
    "with open('sales.csv') as f:\n",
    "    reader = csv.reader(f)\n",
    "    next(reader)\n",
    "    for row in reader:\n",
    "        date = row[0]\n",
    "        product = row[1]\n",
    "        price = float(row[2])\n",
    "        units = int(row[3])\n",
    "\n",
    "        revenue += price * units\n",
    "        product_revenue[product] += price * units\n",
    "        monthly_revenue[date[:7]] += price * units\n",
    "\n",
    "        if revenue > max_revenue:\n",
    "            max_revenue = revenue\n",
    "            max_revenue_date = date\n",
    "            max_revenue_product = product\n",
    "\n",
    "months = list(monthly_revenue.keys())\n",
    "values = list(monthly_revenue.values())\n",
    "\n",
    "plt.bar(months, values)\n",
    "plt.xlabel('Month')\n",
    "plt.ylabel('Revenue')\n",
    "plt.title('Monthly Revenue')\n",
    "plt.show()\n",
    "\n",
    "print('Total Revenue:', revenue)\n",
    "print('Product with max revenue:', max_revenue_product)\n",
    "print('Date with max revenue:', max_revenue_date)"
   ],
   "outputs": [],
   "execution_count": null
  }
 ],
 "metadata": {
  "kernelspec": {
   "display_name": "Python 3 (ipykernel)",
   "language": "python",
   "name": "python3"
  },
  "language_info": {
   "codemirror_mode": {
    "name": "ipython",
    "version": 3
   },
   "file_extension": ".py",
   "mimetype": "text/x-python",
   "name": "python",
   "nbconvert_exporter": "python",
   "pygments_lexer": "ipython3",
   "version": "3.13.0"
  }
 },
 "nbformat": 4,
 "nbformat_minor": 5
}
