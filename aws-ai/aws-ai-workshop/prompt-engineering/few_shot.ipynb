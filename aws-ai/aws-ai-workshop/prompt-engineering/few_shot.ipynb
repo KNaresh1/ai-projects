{
 "cells": [
  {
   "cell_type": "code",
   "id": "initial_id",
   "metadata": {
    "collapsed": true
   },
   "source": [
    "import json\n",
    "import os\n",
    "\n",
    "import boto3\n",
    "import certifi"
   ],
   "outputs": [],
   "execution_count": null
  },
  {
   "metadata": {},
   "cell_type": "code",
   "source": "client = boto3.client(\"bedrock-runtime\", \"us-east-1\")",
   "id": "ead055752f113346",
   "outputs": [],
   "execution_count": null
  },
  {
   "metadata": {},
   "cell_type": "code",
   "source": [
    "prompt_data = \"\"\"\n",
    "Tweet: \"I hate it when my phone battery dies.”: Sentiment: Negative\n",
    "Tweet: \"My day has been great”: Sentiment: Positive\n",
    "Tweet: \"This is the link to the article”: Sentiment: Neutral\n",
    "Tweet: \"This new music video was incredible” Sentiment:\n",
    "\"\"\"\n",
    "\n",
    "payload = {\n",
    "    \"inputText\": prompt_data,\n",
    "    \"textGenerationConfig\": {\n",
    "        \"maxTokenCount\": 200,\n",
    "        \"temperature\": 1.0,\n",
    "        \"topP\": 0.999,\n",
    "        \"stopSequences\": []\n",
    "    }\n",
    "}"
   ],
   "id": "1a5e8073a9959a2b",
   "outputs": [],
   "execution_count": null
  },
  {
   "metadata": {},
   "cell_type": "code",
   "source": [
    "os.environ['SSL_CERT_FILE'] = certifi.where()\n",
    "\n",
    "response = client.invoke_model(\n",
    "    modelId=\"amazon.titan-text-express-v1\",\n",
    "    accept='application/json',\n",
    "    contentType='application/json',\n",
    "    body=json.dumps(payload)\n",
    ")"
   ],
   "id": "b7f211023a83ac54",
   "outputs": [],
   "execution_count": null
  },
  {
   "metadata": {},
   "cell_type": "code",
   "source": [
    "response_body = json.loads(response.get(\"body\").read())\n",
    "outputText = response_body.get(\"results\")[0].get(\"outputText\")\n",
    "\n",
    "print(outputText)"
   ],
   "id": "bd3e18f833ee1272",
   "outputs": [],
   "execution_count": null
  }
 ],
 "metadata": {
  "kernelspec": {
   "display_name": "Python 3",
   "language": "python",
   "name": "python3"
  },
  "language_info": {
   "codemirror_mode": {
    "name": "ipython",
    "version": 2
   },
   "file_extension": ".py",
   "mimetype": "text/x-python",
   "name": "python",
   "nbconvert_exporter": "python",
   "pygments_lexer": "ipython2",
   "version": "2.7.6"
  }
 },
 "nbformat": 4,
 "nbformat_minor": 5
}
