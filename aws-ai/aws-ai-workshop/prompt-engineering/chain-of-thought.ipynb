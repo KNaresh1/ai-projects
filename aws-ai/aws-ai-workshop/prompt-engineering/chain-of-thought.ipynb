{
 "cells": [
  {
   "cell_type": "code",
   "id": "initial_id",
   "metadata": {
    "collapsed": true,
    "jupyter": {
     "outputs_hidden": true
    }
   },
   "source": [
    "import json\n",
    "import os\n",
    "\n",
    "import boto3\n",
    "import certifi"
   ],
   "outputs": [],
   "execution_count": null
  },
  {
   "cell_type": "code",
   "id": "ead055752f113346",
   "metadata": {},
   "source": [
    "client = boto3.client(\"bedrock-runtime\", \"us-east-1\")"
   ],
   "outputs": [],
   "execution_count": null
  },
  {
   "cell_type": "code",
   "id": "1a5e8073a9959a2b",
   "metadata": {},
   "source": [
    "prompt_data = \"\"\"\n",
    "On a given week, the viewers for a TV channel were\n",
    "Monday: 6500 viewers\n",
    "Tuesday: 6400 viewers\n",
    "Wednesday: 6300 viewers\n",
    "\n",
    "Question: How many viewers can we expect on Friday?\n",
    "Answer: Based on the numbers given and without any more information, there is a daily decrease of 100 viewers. If we assume this trend will continue during the following days, we can expect 6200 viewers on the next day that would be Thursday, and therefore 6100 viewers on the next day that would be Friday.\n",
    "\n",
    "Question: How many viewers can we expect on Saturday? (Think Step-by-Step)\n",
    "Answer:\n",
    "\"\"\"\n",
    "\n",
    "payload = {\n",
    "    \"inputText\": prompt_data,\n",
    "    \"textGenerationConfig\": {\n",
    "        \"maxTokenCount\": 300,\n",
    "        \"temperature\": 1.0,\n",
    "        \"topP\": 0.999,\n",
    "        \"stopSequences\": []\n",
    "    }\n",
    "}"
   ],
   "outputs": [],
   "execution_count": null
  },
  {
   "cell_type": "code",
   "id": "b7f211023a83ac54",
   "metadata": {},
   "source": [
    "os.environ['SSL_CERT_FILE'] = certifi.where()\n",
    "\n",
    "response = client.invoke_model(\n",
    "    modelId=\"amazon.titan-text-express-v1\",\n",
    "    accept='application/json',\n",
    "    contentType='application/json',\n",
    "    body=json.dumps(payload)\n",
    ")"
   ],
   "outputs": [],
   "execution_count": null
  },
  {
   "metadata": {},
   "cell_type": "code",
   "source": [
    "response_body = json.loads(response.get(\"body\").read())\n",
    "outputText = response_body.get(\"results\")[0].get(\"outputText\")\n",
    "\n",
    "print(outputText)"
   ],
   "id": "1ff40d8d8589047d",
   "outputs": [],
   "execution_count": null
  }
 ],
 "metadata": {
  "kernelspec": {
   "display_name": "Python 3 (ipykernel)",
   "language": "python",
   "name": "python3"
  },
  "language_info": {
   "codemirror_mode": {
    "name": "ipython",
    "version": 3
   },
   "file_extension": ".py",
   "mimetype": "text/x-python",
   "name": "python",
   "nbconvert_exporter": "python",
   "pygments_lexer": "ipython3",
   "version": "3.13.0"
  }
 },
 "nbformat": 4,
 "nbformat_minor": 5
}
