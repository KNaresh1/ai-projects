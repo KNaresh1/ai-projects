{
 "cells": [
  {
   "cell_type": "code",
   "id": "initial_id",
   "metadata": {
    "collapsed": true
   },
   "source": [
    "import json\n",
    "import os\n",
    "\n",
    "import boto3\n",
    "import certifi"
   ],
   "outputs": [],
   "execution_count": null
  },
  {
   "metadata": {},
   "cell_type": "code",
   "source": "client = boto3.client(\"bedrock-runtime\", \"us-east-1\")",
   "id": "367d2966ac463710",
   "outputs": [],
   "execution_count": null
  },
  {
   "metadata": {},
   "cell_type": "code",
   "source": [
    "prompt_data = \"\"\"\n",
    "Human: \n",
    "Sulfuric acid reacts with sodium chloride, and gives <chemical1>_____</chemical1> and <chemical2>_____</chemical2>:\n",
    "Assistant: the chemical1 and chemical 2 are:\n",
    "\"\"\"\n",
    "\n",
    "payload = {\n",
    "    \"inputText\": prompt_data,\n",
    "    \"textGenerationConfig\": {\n",
    "        \"maxTokenCount\": 300,\n",
    "        \"temperature\": 1.0,\n",
    "        \"topP\": 0.999,\n",
    "        \"stopSequences\": []\n",
    "    }\n",
    "}"
   ],
   "id": "51e05d42f98d354",
   "outputs": [],
   "execution_count": null
  },
  {
   "metadata": {
    "ExecuteTime": {
     "end_time": "2024-10-26T19:18:55.648728Z",
     "start_time": "2024-10-26T19:18:54.949569Z"
    }
   },
   "cell_type": "code",
   "source": [
    "os.environ['SSL_CERT_FILE'] = certifi.where()\n",
    "\n",
    "response = client.invoke_model(\n",
    "    modelId=\"amazon.titan-text-express-v1\",\n",
    "    accept='application/json',\n",
    "    contentType='application/json',\n",
    "    body=json.dumps(payload)\n",
    ")"
   ],
   "id": "f322febf43328870",
   "outputs": [],
   "execution_count": 13
  },
  {
   "metadata": {
    "ExecuteTime": {
     "end_time": "2024-10-26T19:18:56.781450Z",
     "start_time": "2024-10-26T19:18:56.778877Z"
    }
   },
   "cell_type": "code",
   "source": [
    "response_body = json.loads(response.get(\"body\").read())\n",
    "outputText = response_body.get(\"results\")[0].get(\"outputText\")\n",
    "\n",
    "print(outputText)"
   ],
   "id": "a4efa88e4da8c2ee",
   "outputs": [
    {
     "name": "stdout",
     "output_type": "stream",
     "text": [
      "Helium\n"
     ]
    }
   ],
   "execution_count": 14
  }
 ],
 "metadata": {
  "kernelspec": {
   "display_name": "Python 3",
   "language": "python",
   "name": "python3"
  },
  "language_info": {
   "codemirror_mode": {
    "name": "ipython",
    "version": 2
   },
   "file_extension": ".py",
   "mimetype": "text/x-python",
   "name": "python",
   "nbconvert_exporter": "python",
   "pygments_lexer": "ipython2",
   "version": "2.7.6"
  }
 },
 "nbformat": 4,
 "nbformat_minor": 5
}
